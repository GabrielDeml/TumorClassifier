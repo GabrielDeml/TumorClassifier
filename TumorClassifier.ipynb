{
  "nbformat": 4,
  "nbformat_minor": 0,
  "metadata": {
    "accelerator": "GPU",
    "colab": {
      "name": "TumorClassifier.ipynb",
      "provenance": [],
      "collapsed_sections": [],
      "include_colab_link": true
    },
    "kernelspec": {
      "display_name": "Python 3",
      "name": "python3"
    }
  },
  "cells": [
    {
      "cell_type": "markdown",
      "metadata": {
        "id": "view-in-github",
        "colab_type": "text"
      },
      "source": [
        "<a href=\"https://colab.research.google.com/github/GabrielDeml/TumorClassifier/blob/main/TumorClassifier.ipynb\" target=\"_parent\"><img src=\"https://colab.research.google.com/assets/colab-badge.svg\" alt=\"Open In Colab\"/></a>"
      ]
    },
    {
      "cell_type": "code",
      "metadata": {
        "id": "KscQb3gkZfeA"
      },
      "source": [
        "# %tensorflow_version 1.x"
      ],
      "execution_count": 1,
      "outputs": []
    },
    {
      "cell_type": "code",
      "metadata": {
        "colab": {
          "base_uri": "https://localhost:8080/"
        },
        "id": "DF071rRotsVO",
        "outputId": "275a42b0-62ec-41b8-d0b0-75d030d5e258"
      },
      "source": [
        "!pip install tensorflowjs"
      ],
      "execution_count": 2,
      "outputs": [
        {
          "output_type": "stream",
          "text": [
            "Collecting tensorflowjs\n",
            "\u001b[?25l  Downloading https://files.pythonhosted.org/packages/d4/1f/632d04bec71d4736a4e0e512cf41236b3416ac00d0a532f6511a829d18c9/tensorflowjs-3.3.0-py3-none-any.whl (63kB)\n",
            "\r\u001b[K     |█████▏                          | 10kB 25.8MB/s eta 0:00:01\r\u001b[K     |██████████▍                     | 20kB 9.7MB/s eta 0:00:01\r\u001b[K     |███████████████▌                | 30kB 8.1MB/s eta 0:00:01\r\u001b[K     |████████████████████▊           | 40kB 7.4MB/s eta 0:00:01\r\u001b[K     |█████████████████████████▉      | 51kB 4.3MB/s eta 0:00:01\r\u001b[K     |███████████████████████████████ | 61kB 4.8MB/s eta 0:00:01\r\u001b[K     |████████████████████████████████| 71kB 3.9MB/s \n",
            "\u001b[?25hRequirement already satisfied: h5py<3,>=2.8.0 in /usr/local/lib/python3.7/dist-packages (from tensorflowjs) (2.10.0)\n",
            "Requirement already satisfied: six<2,>=1.12.0 in /usr/local/lib/python3.7/dist-packages (from tensorflowjs) (1.15.0)\n",
            "Requirement already satisfied: tensorflow<3,>=2.1.0 in /usr/local/lib/python3.7/dist-packages (from tensorflowjs) (2.4.1)\n",
            "Collecting tensorflow-hub<0.10,>=0.7.0\n",
            "\u001b[?25l  Downloading https://files.pythonhosted.org/packages/ac/83/a7df82744a794107641dad1decaad017d82e25f0e1f761ac9204829eef96/tensorflow_hub-0.9.0-py2.py3-none-any.whl (103kB)\n",
            "\r\u001b[K     |███▏                            | 10kB 29.3MB/s eta 0:00:01\r\u001b[K     |██████▍                         | 20kB 38.5MB/s eta 0:00:01\r\u001b[K     |█████████▌                      | 30kB 36.3MB/s eta 0:00:01\r\u001b[K     |████████████▊                   | 40kB 39.2MB/s eta 0:00:01\r\u001b[K     |███████████████▉                | 51kB 28.3MB/s eta 0:00:01\r\u001b[K     |███████████████████             | 61kB 22.4MB/s eta 0:00:01\r\u001b[K     |██████████████████████▏         | 71kB 5.9MB/s eta 0:00:01\r\u001b[K     |█████████████████████████▍      | 81kB 6.6MB/s eta 0:00:01\r\u001b[K     |████████████████████████████▋   | 92kB 7.2MB/s eta 0:00:01\r\u001b[K     |███████████████████████████████▊| 102kB 7.9MB/s eta 0:00:01\r\u001b[K     |████████████████████████████████| 112kB 7.9MB/s \n",
            "\u001b[?25hRequirement already satisfied: numpy>=1.7 in /usr/local/lib/python3.7/dist-packages (from h5py<3,>=2.8.0->tensorflowjs) (1.19.5)\n",
            "Requirement already satisfied: absl-py~=0.10 in /usr/local/lib/python3.7/dist-packages (from tensorflow<3,>=2.1.0->tensorflowjs) (0.12.0)\n",
            "Requirement already satisfied: gast==0.3.3 in /usr/local/lib/python3.7/dist-packages (from tensorflow<3,>=2.1.0->tensorflowjs) (0.3.3)\n",
            "Requirement already satisfied: typing-extensions~=3.7.4 in /usr/local/lib/python3.7/dist-packages (from tensorflow<3,>=2.1.0->tensorflowjs) (3.7.4.3)\n",
            "Requirement already satisfied: flatbuffers~=1.12.0 in /usr/local/lib/python3.7/dist-packages (from tensorflow<3,>=2.1.0->tensorflowjs) (1.12)\n",
            "Requirement already satisfied: google-pasta~=0.2 in /usr/local/lib/python3.7/dist-packages (from tensorflow<3,>=2.1.0->tensorflowjs) (0.2.0)\n",
            "Requirement already satisfied: keras-preprocessing~=1.1.2 in /usr/local/lib/python3.7/dist-packages (from tensorflow<3,>=2.1.0->tensorflowjs) (1.1.2)\n",
            "Requirement already satisfied: protobuf>=3.9.2 in /usr/local/lib/python3.7/dist-packages (from tensorflow<3,>=2.1.0->tensorflowjs) (3.12.4)\n",
            "Requirement already satisfied: opt-einsum~=3.3.0 in /usr/local/lib/python3.7/dist-packages (from tensorflow<3,>=2.1.0->tensorflowjs) (3.3.0)\n",
            "Requirement already satisfied: tensorboard~=2.4 in /usr/local/lib/python3.7/dist-packages (from tensorflow<3,>=2.1.0->tensorflowjs) (2.4.1)\n",
            "Requirement already satisfied: astunparse~=1.6.3 in /usr/local/lib/python3.7/dist-packages (from tensorflow<3,>=2.1.0->tensorflowjs) (1.6.3)\n",
            "Requirement already satisfied: wheel~=0.35 in /usr/local/lib/python3.7/dist-packages (from tensorflow<3,>=2.1.0->tensorflowjs) (0.36.2)\n",
            "Requirement already satisfied: grpcio~=1.32.0 in /usr/local/lib/python3.7/dist-packages (from tensorflow<3,>=2.1.0->tensorflowjs) (1.32.0)\n",
            "Requirement already satisfied: tensorflow-estimator<2.5.0,>=2.4.0 in /usr/local/lib/python3.7/dist-packages (from tensorflow<3,>=2.1.0->tensorflowjs) (2.4.0)\n",
            "Requirement already satisfied: wrapt~=1.12.1 in /usr/local/lib/python3.7/dist-packages (from tensorflow<3,>=2.1.0->tensorflowjs) (1.12.1)\n",
            "Requirement already satisfied: termcolor~=1.1.0 in /usr/local/lib/python3.7/dist-packages (from tensorflow<3,>=2.1.0->tensorflowjs) (1.1.0)\n",
            "Requirement already satisfied: setuptools in /usr/local/lib/python3.7/dist-packages (from protobuf>=3.9.2->tensorflow<3,>=2.1.0->tensorflowjs) (54.2.0)\n",
            "Requirement already satisfied: google-auth-oauthlib<0.5,>=0.4.1 in /usr/local/lib/python3.7/dist-packages (from tensorboard~=2.4->tensorflow<3,>=2.1.0->tensorflowjs) (0.4.3)\n",
            "Requirement already satisfied: requests<3,>=2.21.0 in /usr/local/lib/python3.7/dist-packages (from tensorboard~=2.4->tensorflow<3,>=2.1.0->tensorflowjs) (2.23.0)\n",
            "Requirement already satisfied: tensorboard-plugin-wit>=1.6.0 in /usr/local/lib/python3.7/dist-packages (from tensorboard~=2.4->tensorflow<3,>=2.1.0->tensorflowjs) (1.8.0)\n",
            "Requirement already satisfied: markdown>=2.6.8 in /usr/local/lib/python3.7/dist-packages (from tensorboard~=2.4->tensorflow<3,>=2.1.0->tensorflowjs) (3.3.4)\n",
            "Requirement already satisfied: google-auth<2,>=1.6.3 in /usr/local/lib/python3.7/dist-packages (from tensorboard~=2.4->tensorflow<3,>=2.1.0->tensorflowjs) (1.28.0)\n",
            "Requirement already satisfied: werkzeug>=0.11.15 in /usr/local/lib/python3.7/dist-packages (from tensorboard~=2.4->tensorflow<3,>=2.1.0->tensorflowjs) (1.0.1)\n",
            "Requirement already satisfied: requests-oauthlib>=0.7.0 in /usr/local/lib/python3.7/dist-packages (from google-auth-oauthlib<0.5,>=0.4.1->tensorboard~=2.4->tensorflow<3,>=2.1.0->tensorflowjs) (1.3.0)\n",
            "Requirement already satisfied: urllib3!=1.25.0,!=1.25.1,<1.26,>=1.21.1 in /usr/local/lib/python3.7/dist-packages (from requests<3,>=2.21.0->tensorboard~=2.4->tensorflow<3,>=2.1.0->tensorflowjs) (1.24.3)\n",
            "Requirement already satisfied: chardet<4,>=3.0.2 in /usr/local/lib/python3.7/dist-packages (from requests<3,>=2.21.0->tensorboard~=2.4->tensorflow<3,>=2.1.0->tensorflowjs) (3.0.4)\n",
            "Requirement already satisfied: idna<3,>=2.5 in /usr/local/lib/python3.7/dist-packages (from requests<3,>=2.21.0->tensorboard~=2.4->tensorflow<3,>=2.1.0->tensorflowjs) (2.10)\n",
            "Requirement already satisfied: certifi>=2017.4.17 in /usr/local/lib/python3.7/dist-packages (from requests<3,>=2.21.0->tensorboard~=2.4->tensorflow<3,>=2.1.0->tensorflowjs) (2020.12.5)\n",
            "Requirement already satisfied: importlib-metadata; python_version < \"3.8\" in /usr/local/lib/python3.7/dist-packages (from markdown>=2.6.8->tensorboard~=2.4->tensorflow<3,>=2.1.0->tensorflowjs) (3.8.1)\n",
            "Requirement already satisfied: cachetools<5.0,>=2.0.0 in /usr/local/lib/python3.7/dist-packages (from google-auth<2,>=1.6.3->tensorboard~=2.4->tensorflow<3,>=2.1.0->tensorflowjs) (4.2.1)\n",
            "Requirement already satisfied: pyasn1-modules>=0.2.1 in /usr/local/lib/python3.7/dist-packages (from google-auth<2,>=1.6.3->tensorboard~=2.4->tensorflow<3,>=2.1.0->tensorflowjs) (0.2.8)\n",
            "Requirement already satisfied: rsa<5,>=3.1.4; python_version >= \"3.6\" in /usr/local/lib/python3.7/dist-packages (from google-auth<2,>=1.6.3->tensorboard~=2.4->tensorflow<3,>=2.1.0->tensorflowjs) (4.7.2)\n",
            "Requirement already satisfied: oauthlib>=3.0.0 in /usr/local/lib/python3.7/dist-packages (from requests-oauthlib>=0.7.0->google-auth-oauthlib<0.5,>=0.4.1->tensorboard~=2.4->tensorflow<3,>=2.1.0->tensorflowjs) (3.1.0)\n",
            "Requirement already satisfied: zipp>=0.5 in /usr/local/lib/python3.7/dist-packages (from importlib-metadata; python_version < \"3.8\"->markdown>=2.6.8->tensorboard~=2.4->tensorflow<3,>=2.1.0->tensorflowjs) (3.4.1)\n",
            "Requirement already satisfied: pyasn1<0.5.0,>=0.4.6 in /usr/local/lib/python3.7/dist-packages (from pyasn1-modules>=0.2.1->google-auth<2,>=1.6.3->tensorboard~=2.4->tensorflow<3,>=2.1.0->tensorflowjs) (0.4.8)\n",
            "Installing collected packages: tensorflow-hub, tensorflowjs\n",
            "  Found existing installation: tensorflow-hub 0.11.0\n",
            "    Uninstalling tensorflow-hub-0.11.0:\n",
            "      Successfully uninstalled tensorflow-hub-0.11.0\n",
            "Successfully installed tensorflow-hub-0.9.0 tensorflowjs-3.3.0\n"
          ],
          "name": "stdout"
        }
      ]
    },
    {
      "cell_type": "code",
      "metadata": {
        "id": "L7s0M_TNK95O"
      },
      "source": [
        "from __future__ import absolute_import, division, print_function, unicode_literals\n",
        "from tensorflow.keras import datasets, layers, models\n",
        "\n",
        "import IPython.display as display\n",
        "import pathlib\n",
        "import tensorflow as tf\n",
        "import os\n",
        "# tf.enable_eager_execution()\n",
        "tf.__version__\n",
        "\n",
        "import tensorflowjs as tfjs"
      ],
      "execution_count": 3,
      "outputs": []
    },
    {
      "cell_type": "code",
      "metadata": {
        "id": "o1lO3pQpqSBs"
      },
      "source": [
        "AUTOTUNE = tf.data.experimental.AUTOTUNE\n",
        "BATCH_SIZE = 32"
      ],
      "execution_count": 4,
      "outputs": []
    },
    {
      "cell_type": "code",
      "metadata": {
        "id": "0ea_vPgqVwz7"
      },
      "source": [
        "!mkdir .kaggle"
      ],
      "execution_count": 5,
      "outputs": []
    },
    {
      "cell_type": "code",
      "metadata": {
        "id": "6-GbumI5WTjF"
      },
      "source": [
        "import json\n",
        "token = {\"username\":\"gabrieldeml\",\"key\":\"3e37c76c042a65523596d5fdd5b719ae\"}\n",
        "with open('/content/.kaggle/kaggle.json', 'w') as file:\n",
        "    json.dump(token, file)"
      ],
      "execution_count": 6,
      "outputs": []
    },
    {
      "cell_type": "code",
      "metadata": {
        "id": "pnoZ2c8sXB0H"
      },
      "source": [
        "!chmod 600 /content/.kaggle/kaggle.json"
      ],
      "execution_count": 7,
      "outputs": []
    },
    {
      "cell_type": "code",
      "metadata": {
        "id": "__SmE3GxYS0V"
      },
      "source": [
        "mkdir ~/.kaggle/"
      ],
      "execution_count": 8,
      "outputs": []
    },
    {
      "cell_type": "code",
      "metadata": {
        "id": "JgDcpDegXLZa"
      },
      "source": [
        "!cp /content/.kaggle/kaggle.json ~/.kaggle/kaggle.json"
      ],
      "execution_count": 9,
      "outputs": []
    },
    {
      "cell_type": "code",
      "metadata": {
        "colab": {
          "base_uri": "https://localhost:8080/"
        },
        "id": "jBM8d1AeYs5C",
        "outputId": "af41a47a-5a76-4b1f-84af-5380855939bc"
      },
      "source": [
        "!kaggle config set -n path -v{/content}"
      ],
      "execution_count": 10,
      "outputs": [
        {
          "output_type": "stream",
          "text": [
            "- path is now set to: {/content}\n"
          ],
          "name": "stdout"
        }
      ]
    },
    {
      "cell_type": "code",
      "metadata": {
        "colab": {
          "base_uri": "https://localhost:8080/"
        },
        "id": "9y_IzH4jY3dZ",
        "outputId": "11046458-8d67-470d-cc95-906c89c149d8"
      },
      "source": [
        "#!kaggle competitions download -c dogs-vs-cats -p /content\n",
        "!kaggle datasets download -d fanconic/skin-cancer-malignant-vs-benign -p /content"
      ],
      "execution_count": 11,
      "outputs": [
        {
          "output_type": "stream",
          "text": [
            "Downloading skin-cancer-malignant-vs-benign.zip to /content\n",
            " 96% 313M/325M [00:10<00:00, 27.7MB/s]\n",
            "100% 325M/325M [00:10<00:00, 32.5MB/s]\n"
          ],
          "name": "stdout"
        }
      ]
    },
    {
      "cell_type": "code",
      "metadata": {
        "colab": {
          "base_uri": "https://localhost:8080/"
        },
        "id": "3meovQ4qZcDJ",
        "outputId": "bad62d57-f079-4d74-9edf-64db85745f95"
      },
      "source": [
        "print (\"skin-cancer-malignant-vs-benign: {}\".format(os.path.exists(\"skin-cancer-malignant-vs-benign.zip\")))\n",
        "if not (os.path.exists(\"skin-cancer-malignant-vs-benign\")):\n",
        "  !unzip -q skin-cancer-malignant-vs-benign.zip\n",
        "else:\n",
        "  print(\"We already did this\")"
      ],
      "execution_count": 12,
      "outputs": [
        {
          "output_type": "stream",
          "text": [
            "skin-cancer-malignant-vs-benign: True\n"
          ],
          "name": "stdout"
        }
      ]
    },
    {
      "cell_type": "code",
      "metadata": {
        "colab": {
          "base_uri": "https://localhost:8080/"
        },
        "id": "yGMtpwBRMW0V",
        "outputId": "dab1eb2c-a7b9-4375-9178-b348748c781b"
      },
      "source": [
        "!mkdir train/cat\n",
        "!mkdir train/dog\n",
        "!mv train/cat* train/cat\n",
        "!mv train/dog* train/dog"
      ],
      "execution_count": 13,
      "outputs": [
        {
          "output_type": "stream",
          "text": [
            "mv: cannot move 'train/cat' to a subdirectory of itself, 'train/cat/cat'\n",
            "mv: cannot move 'train/dog' to a subdirectory of itself, 'train/dog/dog'\n"
          ],
          "name": "stdout"
        }
      ]
    },
    {
      "cell_type": "code",
      "metadata": {
        "id": "yzDr3xxBeIGt"
      },
      "source": [
        "data_root = pathlib.Path(\"data/train\")\n",
        "data_test = pathlib.Path(\"data/test\")"
      ],
      "execution_count": 14,
      "outputs": []
    },
    {
      "cell_type": "code",
      "metadata": {
        "colab": {
          "base_uri": "https://localhost:8080/"
        },
        "id": "yqsp4b6EeTje",
        "outputId": "58cd82f1-af54-4291-c52d-dd99dbc34081"
      },
      "source": [
        "for item in data_root.iterdir():\n",
        "  print(item)"
      ],
      "execution_count": 15,
      "outputs": [
        {
          "output_type": "stream",
          "text": [
            "data/train/benign\n",
            "data/train/malignant\n"
          ],
          "name": "stdout"
        }
      ]
    },
    {
      "cell_type": "code",
      "metadata": {
        "colab": {
          "base_uri": "https://localhost:8080/"
        },
        "id": "jNI7i1k_ef-b",
        "outputId": "54a9bb13-8589-49d6-a3a0-adb6398efd96"
      },
      "source": [
        "# TODO Add the rest of me for test\n",
        "import random\n",
        "all_image_paths = list(data_root.glob('*/*'))\n",
        "all_image_paths = [str(path) for path in all_image_paths]\n",
        "random.shuffle(all_image_paths)\n",
        "\n",
        "image_count = len(all_image_paths)\n",
        "image_count"
      ],
      "execution_count": 16,
      "outputs": [
        {
          "output_type": "execute_result",
          "data": {
            "text/plain": [
              "2637"
            ]
          },
          "metadata": {
            "tags": []
          },
          "execution_count": 16
        }
      ]
    },
    {
      "cell_type": "code",
      "metadata": {
        "colab": {
          "base_uri": "https://localhost:8080/"
        },
        "id": "TCVU7mBHc_nI",
        "outputId": "50ed32ea-8edd-4a7f-e499-4f645eb59049"
      },
      "source": [
        "import random\n",
        "all_image_paths_test = list(data_test.glob('*/*'))\n",
        "all_image_paths_test = [str(path) for path in all_image_paths_test]\n",
        "\n",
        "image_count_test = len(all_image_paths_test)\n",
        "image_count_test"
      ],
      "execution_count": 17,
      "outputs": [
        {
          "output_type": "execute_result",
          "data": {
            "text/plain": [
              "660"
            ]
          },
          "metadata": {
            "tags": []
          },
          "execution_count": 17
        }
      ]
    },
    {
      "cell_type": "code",
      "metadata": {
        "colab": {
          "base_uri": "https://localhost:8080/"
        },
        "id": "ffGgAEc0jf__",
        "outputId": "6d7a81b3-d2af-4359-ca3c-0c3bf4cb9377"
      },
      "source": [
        "label_names = sorted(item.name for item in data_root.glob('*/') if item.is_dir())\n",
        "label_names"
      ],
      "execution_count": 18,
      "outputs": [
        {
          "output_type": "execute_result",
          "data": {
            "text/plain": [
              "['benign', 'malignant']"
            ]
          },
          "metadata": {
            "tags": []
          },
          "execution_count": 18
        }
      ]
    },
    {
      "cell_type": "code",
      "metadata": {
        "colab": {
          "base_uri": "https://localhost:8080/"
        },
        "id": "OfFxKOFgjume",
        "outputId": "ccc9df5e-83aa-4399-e97a-63e74a72ccf9"
      },
      "source": [
        "label_to_index = dict((name, index) for index,name in enumerate(label_names))\n",
        "label_to_index"
      ],
      "execution_count": 19,
      "outputs": [
        {
          "output_type": "execute_result",
          "data": {
            "text/plain": [
              "{'benign': 0, 'malignant': 1}"
            ]
          },
          "metadata": {
            "tags": []
          },
          "execution_count": 19
        }
      ]
    },
    {
      "cell_type": "code",
      "metadata": {
        "colab": {
          "base_uri": "https://localhost:8080/"
        },
        "id": "P2KEAGBuj4w6",
        "outputId": "6bbf3783-8857-4e41-f075-81f8c507b0ea"
      },
      "source": [
        "all_image_labels = [label_to_index[pathlib.Path(path).parent.name]\n",
        "                    for path in all_image_paths]\n",
        "\n",
        "print(\"First 10 labels indices: \", all_image_labels[:10])"
      ],
      "execution_count": 20,
      "outputs": [
        {
          "output_type": "stream",
          "text": [
            "First 10 labels indices:  [1, 0, 0, 1, 0, 0, 0, 1, 0, 0]\n"
          ],
          "name": "stdout"
        }
      ]
    },
    {
      "cell_type": "code",
      "metadata": {
        "colab": {
          "base_uri": "https://localhost:8080/"
        },
        "id": "2lw9SHsLdYh_",
        "outputId": "ebefb73d-8695-49b5-aff0-957287528109"
      },
      "source": [
        "all_image_labels_test = [label_to_index[pathlib.Path(path).parent.name]\n",
        "                    for path in all_image_paths_test]\n",
        "\n",
        "print(\"First 10 labels indices: \", all_image_labels_test[:10])"
      ],
      "execution_count": 21,
      "outputs": [
        {
          "output_type": "stream",
          "text": [
            "First 10 labels indices:  [0, 0, 0, 0, 0, 0, 0, 0, 0, 0]\n"
          ],
          "name": "stdout"
        }
      ]
    },
    {
      "cell_type": "code",
      "metadata": {
        "id": "nrEbtBpSlRDi"
      },
      "source": [
        "def preprocess_image(image):\n",
        "  image = tf.image.decode_jpeg(image, channels=3)\n",
        "  image = tf.image.resize(image, [224, 224])\n",
        "  image /= 255.0  # normalize to [0,1] range\n",
        "\n",
        "  return image"
      ],
      "execution_count": 22,
      "outputs": []
    },
    {
      "cell_type": "code",
      "metadata": {
        "id": "g3G_nYGJlSOx"
      },
      "source": [
        "def load_and_preprocess_image(path):\n",
        "  image = tf.io.read_file(path)\n",
        "  return preprocess_image(image)"
      ],
      "execution_count": 23,
      "outputs": []
    },
    {
      "cell_type": "code",
      "metadata": {
        "colab": {
          "base_uri": "https://localhost:8080/"
        },
        "id": "D8kzXkpMn3vK",
        "outputId": "0f4420a8-feb2-401a-e42f-01c91020dd4f"
      },
      "source": [
        "ds = tf.data.Dataset.from_tensor_slices((all_image_paths, all_image_labels))\n",
        "ds_test = tf.data.Dataset.from_tensor_slices((all_image_paths_test, all_image_labels_test))\n",
        "# The tuples are unpacked into the positional arguments of the mapped function\n",
        "def load_and_preprocess_from_path_label(path, label):\n",
        "  return load_and_preprocess_image(path), label\n",
        "\n",
        "image_label_ds = ds.map(load_and_preprocess_from_path_label)\n",
        "ds_test = ds_test.map(load_and_preprocess_from_path_label)\n",
        "image_label_ds \n",
        "ds_test"
      ],
      "execution_count": 24,
      "outputs": [
        {
          "output_type": "execute_result",
          "data": {
            "text/plain": [
              "<MapDataset shapes: ((224, 224, 3), ()), types: (tf.float32, tf.int32)>"
            ]
          },
          "metadata": {
            "tags": []
          },
          "execution_count": 24
        }
      ]
    },
    {
      "cell_type": "code",
      "metadata": {
        "colab": {
          "base_uri": "https://localhost:8080/"
        },
        "id": "6JRqG5yuqmv0",
        "outputId": "f31973c0-ef65-4468-c871-7ff366a2aa8d"
      },
      "source": [
        "ds = image_label_ds.apply(\n",
        "tf.data.experimental.shuffle_and_repeat(buffer_size=500))\n",
        "ds = ds.batch(32)\n",
        "ds = ds.prefetch(buffer_size=5000)\n",
        "ds = ds.repeat()\n",
        "ds\n",
        "\n",
        "ds_test = ds_test.batch(32)\n",
        "ds_test = ds_test.prefetch(buffer_size=500)\n",
        "# ds = image_label_ds.apply(\n",
        "#   tf.data.experimental.shuffle_and_repeat(buffer_size=image_count))\n",
        "# ds = ds.batch(BATCH_SIZE).prefetch(buffer_size=AUTOTUNE)\n",
        "# ds\n",
        "# ds = ds.shuffle(buffer_size=10000) ## 10000: size of sample/record pool for random selection\n",
        "# ds = ds.batch(32) ## 32: number of samples/records per batch (to be read into memory)\n",
        "# ds = ds.repeat() ## None: keep repeating"
      ],
      "execution_count": 25,
      "outputs": [
        {
          "output_type": "stream",
          "text": [
            "WARNING:tensorflow:From <ipython-input-25-f96ebfb14f02>:2: shuffle_and_repeat (from tensorflow.python.data.experimental.ops.shuffle_ops) is deprecated and will be removed in a future version.\n",
            "Instructions for updating:\n",
            "Use `tf.data.Dataset.shuffle(buffer_size, seed)` followed by `tf.data.Dataset.repeat(count)`. Static tf.data optimizations will take care of using the fused implementation.\n"
          ],
          "name": "stdout"
        }
      ]
    },
    {
      "cell_type": "code",
      "metadata": {
        "id": "JlKDEh-so5CT"
      },
      "source": [
        "model = models.Sequential()\n",
        "model.add(layers.Conv2D(32, (3, 3), activation='relu', input_shape=(224, 224, 3)))\n",
        "model.add(layers.MaxPooling2D((2, 2)))\n",
        "model.add(layers.Conv2D(64, (3, 3), activation='relu'))\n",
        "model.add(layers.MaxPooling2D((2, 2)))\n",
        "model.add(layers.Conv2D(64, (3, 3), activation='relu'))\n",
        "model.add(layers.Flatten())\n",
        "model.add(layers.Dense(64, activation='relu'))\n",
        "model.add(layers.Dense(2, activation='softmax'))"
      ],
      "execution_count": 26,
      "outputs": []
    },
    {
      "cell_type": "code",
      "metadata": {
        "colab": {
          "base_uri": "https://localhost:8080/"
        },
        "id": "QPRu4ItjpTPt",
        "outputId": "50a0ec09-4e84-42eb-8e81-347f7b89a298"
      },
      "source": [
        "model.build()\n",
        "model.summary()"
      ],
      "execution_count": 27,
      "outputs": [
        {
          "output_type": "stream",
          "text": [
            "Model: \"sequential\"\n",
            "_________________________________________________________________\n",
            "Layer (type)                 Output Shape              Param #   \n",
            "=================================================================\n",
            "conv2d (Conv2D)              (None, 222, 222, 32)      896       \n",
            "_________________________________________________________________\n",
            "max_pooling2d (MaxPooling2D) (None, 111, 111, 32)      0         \n",
            "_________________________________________________________________\n",
            "conv2d_1 (Conv2D)            (None, 109, 109, 64)      18496     \n",
            "_________________________________________________________________\n",
            "max_pooling2d_1 (MaxPooling2 (None, 54, 54, 64)        0         \n",
            "_________________________________________________________________\n",
            "conv2d_2 (Conv2D)            (None, 52, 52, 64)        36928     \n",
            "_________________________________________________________________\n",
            "flatten (Flatten)            (None, 173056)            0         \n",
            "_________________________________________________________________\n",
            "dense (Dense)                (None, 64)                11075648  \n",
            "_________________________________________________________________\n",
            "dense_1 (Dense)              (None, 2)                 130       \n",
            "=================================================================\n",
            "Total params: 11,132,098\n",
            "Trainable params: 11,132,098\n",
            "Non-trainable params: 0\n",
            "_________________________________________________________________\n"
          ],
          "name": "stdout"
        }
      ]
    },
    {
      "cell_type": "code",
      "metadata": {
        "id": "Nh-sLctEpjcq"
      },
      "source": [
        "model.compile(optimizer=tf.keras.optimizers.Adam(),\n",
        "              loss=tf.keras.losses.sparse_categorical_crossentropy,\n",
        "              metrics=[\"accuracy\"])"
      ],
      "execution_count": 28,
      "outputs": []
    },
    {
      "cell_type": "code",
      "metadata": {
        "colab": {
          "base_uri": "https://localhost:8080/"
        },
        "id": "evwpKmi4rDMa",
        "outputId": "06efb70a-f7a1-4ee3-e281-7932770820b4"
      },
      "source": [
        "model.fit(ds, epochs=600, steps_per_epoch=3, )"
      ],
      "execution_count": 29,
      "outputs": [
        {
          "output_type": "stream",
          "text": [
            "Epoch 1/600\n",
            "3/3 [==============================] - 32s 214ms/step - loss: 3.6671 - accuracy: 0.5013\n",
            "Epoch 2/600\n",
            "3/3 [==============================] - 0s 31ms/step - loss: 5.6912 - accuracy: 0.4883\n",
            "Epoch 3/600\n",
            "3/3 [==============================] - 0s 35ms/step - loss: 0.8826 - accuracy: 0.4297\n",
            "Epoch 4/600\n",
            "3/3 [==============================] - 0s 33ms/step - loss: 0.8208 - accuracy: 0.4375\n",
            "Epoch 5/600\n",
            "3/3 [==============================] - 0s 34ms/step - loss: 0.7408 - accuracy: 0.5378\n",
            "Epoch 6/600\n",
            "3/3 [==============================] - 0s 34ms/step - loss: 0.6578 - accuracy: 0.6250\n",
            "Epoch 7/600\n",
            "3/3 [==============================] - 0s 32ms/step - loss: 0.6071 - accuracy: 0.7083\n",
            "Epoch 8/600\n",
            "3/3 [==============================] - 0s 32ms/step - loss: 0.6176 - accuracy: 0.6927\n",
            "Epoch 9/600\n",
            "3/3 [==============================] - 0s 32ms/step - loss: 0.5301 - accuracy: 0.7539\n",
            "Epoch 10/600\n",
            "3/3 [==============================] - 0s 32ms/step - loss: 0.6386 - accuracy: 0.6432\n",
            "Epoch 11/600\n",
            "3/3 [==============================] - 0s 32ms/step - loss: 0.5386 - accuracy: 0.6719\n",
            "Epoch 12/600\n",
            "3/3 [==============================] - 0s 30ms/step - loss: 0.5719 - accuracy: 0.6992\n",
            "Epoch 13/600\n",
            "3/3 [==============================] - 0s 34ms/step - loss: 0.5094 - accuracy: 0.7318\n",
            "Epoch 14/600\n",
            "3/3 [==============================] - 0s 32ms/step - loss: 0.4893 - accuracy: 0.8021\n",
            "Epoch 15/600\n",
            "3/3 [==============================] - 0s 30ms/step - loss: 0.4974 - accuracy: 0.7760\n",
            "Epoch 16/600\n",
            "3/3 [==============================] - 0s 31ms/step - loss: 0.4994 - accuracy: 0.7031\n",
            "Epoch 17/600\n",
            "3/3 [==============================] - 0s 32ms/step - loss: 0.4490 - accuracy: 0.7773\n",
            "Epoch 18/600\n",
            "3/3 [==============================] - 0s 34ms/step - loss: 0.5813 - accuracy: 0.6914\n",
            "Epoch 19/600\n",
            "3/3 [==============================] - 0s 41ms/step - loss: 0.5317 - accuracy: 0.7760\n",
            "Epoch 20/600\n",
            "3/3 [==============================] - 0s 29ms/step - loss: 0.4357 - accuracy: 0.8177\n",
            "Epoch 21/600\n",
            "3/3 [==============================] - 0s 30ms/step - loss: 0.4260 - accuracy: 0.7578\n",
            "Epoch 22/600\n",
            "3/3 [==============================] - 0s 32ms/step - loss: 0.4285 - accuracy: 0.7878\n",
            "Epoch 23/600\n",
            "3/3 [==============================] - 0s 31ms/step - loss: 0.4981 - accuracy: 0.7109\n",
            "Epoch 24/600\n",
            "3/3 [==============================] - 0s 32ms/step - loss: 0.4310 - accuracy: 0.7682\n",
            "Epoch 25/600\n",
            "3/3 [==============================] - 0s 32ms/step - loss: 0.4668 - accuracy: 0.7839\n",
            "Epoch 26/600\n",
            "3/3 [==============================] - 0s 33ms/step - loss: 0.5187 - accuracy: 0.7279\n",
            "Epoch 27/600\n",
            "3/3 [==============================] - 0s 33ms/step - loss: 0.4409 - accuracy: 0.7904\n",
            "Epoch 28/600\n",
            "3/3 [==============================] - 0s 33ms/step - loss: 0.4583 - accuracy: 0.7930\n",
            "Epoch 29/600\n",
            "3/3 [==============================] - 0s 32ms/step - loss: 0.4927 - accuracy: 0.7188\n",
            "Epoch 30/600\n",
            "3/3 [==============================] - 0s 34ms/step - loss: 0.4177 - accuracy: 0.7786\n",
            "Epoch 31/600\n",
            "3/3 [==============================] - 0s 31ms/step - loss: 0.4505 - accuracy: 0.7943\n",
            "Epoch 32/600\n",
            "3/3 [==============================] - 0s 31ms/step - loss: 0.4434 - accuracy: 0.7786\n",
            "Epoch 33/600\n",
            "3/3 [==============================] - 0s 37ms/step - loss: 0.4862 - accuracy: 0.7578\n",
            "Epoch 34/600\n",
            "3/3 [==============================] - 0s 32ms/step - loss: 0.4703 - accuracy: 0.7422\n",
            "Epoch 35/600\n",
            "3/3 [==============================] - 0s 34ms/step - loss: 0.3534 - accuracy: 0.8516\n",
            "Epoch 36/600\n",
            "3/3 [==============================] - 0s 33ms/step - loss: 0.5457 - accuracy: 0.7474\n",
            "Epoch 37/600\n",
            "3/3 [==============================] - 0s 35ms/step - loss: 0.4638 - accuracy: 0.7630\n",
            "Epoch 38/600\n",
            "3/3 [==============================] - 0s 37ms/step - loss: 0.4653 - accuracy: 0.7305\n",
            "Epoch 39/600\n",
            "3/3 [==============================] - 0s 31ms/step - loss: 0.3982 - accuracy: 0.8477\n",
            "Epoch 40/600\n",
            "3/3 [==============================] - 0s 33ms/step - loss: 0.3613 - accuracy: 0.8281\n",
            "Epoch 41/600\n",
            "3/3 [==============================] - 0s 31ms/step - loss: 0.4191 - accuracy: 0.7487\n",
            "Epoch 42/600\n",
            "3/3 [==============================] - 0s 36ms/step - loss: 0.4171 - accuracy: 0.8008\n",
            "Epoch 43/600\n",
            "3/3 [==============================] - 0s 30ms/step - loss: 0.5229 - accuracy: 0.7474\n",
            "Epoch 44/600\n",
            "3/3 [==============================] - 0s 33ms/step - loss: 0.4134 - accuracy: 0.7839\n",
            "Epoch 45/600\n",
            "3/3 [==============================] - 0s 34ms/step - loss: 0.3786 - accuracy: 0.8112\n",
            "Epoch 46/600\n",
            "3/3 [==============================] - 0s 31ms/step - loss: 0.4333 - accuracy: 0.8125\n",
            "Epoch 47/600\n",
            "3/3 [==============================] - 0s 31ms/step - loss: 0.2878 - accuracy: 0.8945\n",
            "Epoch 48/600\n",
            "3/3 [==============================] - 0s 40ms/step - loss: 0.4727 - accuracy: 0.7487\n",
            "Epoch 49/600\n",
            "3/3 [==============================] - 0s 32ms/step - loss: 0.3698 - accuracy: 0.8151\n",
            "Epoch 50/600\n",
            "3/3 [==============================] - 0s 33ms/step - loss: 0.4631 - accuracy: 0.7891\n",
            "Epoch 51/600\n",
            "3/3 [==============================] - 0s 33ms/step - loss: 0.4466 - accuracy: 0.7279\n",
            "Epoch 52/600\n",
            "3/3 [==============================] - 0s 33ms/step - loss: 0.3375 - accuracy: 0.8255\n",
            "Epoch 53/600\n",
            "3/3 [==============================] - 0s 33ms/step - loss: 0.3981 - accuracy: 0.7773\n",
            "Epoch 54/600\n",
            "3/3 [==============================] - 0s 32ms/step - loss: 0.4170 - accuracy: 0.8164\n",
            "Epoch 55/600\n",
            "3/3 [==============================] - 0s 33ms/step - loss: 0.5258 - accuracy: 0.8086\n",
            "Epoch 56/600\n",
            "3/3 [==============================] - 0s 36ms/step - loss: 0.3940 - accuracy: 0.8047\n",
            "Epoch 57/600\n",
            "3/3 [==============================] - 0s 34ms/step - loss: 0.3637 - accuracy: 0.7995\n",
            "Epoch 58/600\n",
            "3/3 [==============================] - 0s 31ms/step - loss: 0.4091 - accuracy: 0.8021\n",
            "Epoch 59/600\n",
            "3/3 [==============================] - 0s 34ms/step - loss: 0.3412 - accuracy: 0.8242\n",
            "Epoch 60/600\n",
            "3/3 [==============================] - 0s 35ms/step - loss: 0.4671 - accuracy: 0.7682\n",
            "Epoch 61/600\n",
            "3/3 [==============================] - 0s 35ms/step - loss: 0.4166 - accuracy: 0.7799\n",
            "Epoch 62/600\n",
            "3/3 [==============================] - 0s 39ms/step - loss: 0.3730 - accuracy: 0.8177\n",
            "Epoch 63/600\n",
            "3/3 [==============================] - 0s 36ms/step - loss: 0.3183 - accuracy: 0.8620\n",
            "Epoch 64/600\n",
            "3/3 [==============================] - 0s 33ms/step - loss: 0.4083 - accuracy: 0.7826\n",
            "Epoch 65/600\n",
            "3/3 [==============================] - 0s 33ms/step - loss: 0.3351 - accuracy: 0.8385\n",
            "Epoch 66/600\n",
            "3/3 [==============================] - 0s 34ms/step - loss: 0.4207 - accuracy: 0.8060\n",
            "Epoch 67/600\n",
            "3/3 [==============================] - 0s 33ms/step - loss: 0.4377 - accuracy: 0.7188\n",
            "Epoch 68/600\n",
            "3/3 [==============================] - 0s 31ms/step - loss: 0.5021 - accuracy: 0.7682\n",
            "Epoch 69/600\n",
            "3/3 [==============================] - 0s 35ms/step - loss: 0.4508 - accuracy: 0.7721\n",
            "Epoch 70/600\n",
            "3/3 [==============================] - 0s 31ms/step - loss: 0.3763 - accuracy: 0.8268\n",
            "Epoch 71/600\n",
            "3/3 [==============================] - 0s 30ms/step - loss: 0.4253 - accuracy: 0.7760\n",
            "Epoch 72/600\n",
            "3/3 [==============================] - 0s 35ms/step - loss: 0.3112 - accuracy: 0.8620\n",
            "Epoch 73/600\n",
            "3/3 [==============================] - 0s 33ms/step - loss: 0.4562 - accuracy: 0.8151\n",
            "Epoch 74/600\n",
            "3/3 [==============================] - 0s 33ms/step - loss: 0.3863 - accuracy: 0.8633\n",
            "Epoch 75/600\n",
            "3/3 [==============================] - 0s 32ms/step - loss: 0.4183 - accuracy: 0.7773\n",
            "Epoch 76/600\n",
            "3/3 [==============================] - 0s 36ms/step - loss: 0.3823 - accuracy: 0.7956\n",
            "Epoch 77/600\n",
            "3/3 [==============================] - 0s 32ms/step - loss: 0.3391 - accuracy: 0.8190\n",
            "Epoch 78/600\n",
            "3/3 [==============================] - 0s 32ms/step - loss: 0.4679 - accuracy: 0.7253\n",
            "Epoch 79/600\n",
            "3/3 [==============================] - 0s 33ms/step - loss: 0.3892 - accuracy: 0.7747\n",
            "Epoch 80/600\n",
            "3/3 [==============================] - 0s 34ms/step - loss: 0.4214 - accuracy: 0.8451\n",
            "Epoch 81/600\n",
            "3/3 [==============================] - 0s 34ms/step - loss: 0.4254 - accuracy: 0.7682\n",
            "Epoch 82/600\n",
            "3/3 [==============================] - 0s 35ms/step - loss: 0.3529 - accuracy: 0.8359\n",
            "Epoch 83/600\n",
            "3/3 [==============================] - 0s 36ms/step - loss: 0.3440 - accuracy: 0.8034\n",
            "Epoch 84/600\n",
            "3/3 [==============================] - 0s 33ms/step - loss: 0.5193 - accuracy: 0.8125\n",
            "Epoch 85/600\n",
            "3/3 [==============================] - 0s 33ms/step - loss: 0.3302 - accuracy: 0.8424\n",
            "Epoch 86/600\n",
            "3/3 [==============================] - 0s 35ms/step - loss: 0.4245 - accuracy: 0.7865\n",
            "Epoch 87/600\n",
            "3/3 [==============================] - 0s 37ms/step - loss: 0.4185 - accuracy: 0.7826\n",
            "Epoch 88/600\n",
            "3/3 [==============================] - 0s 32ms/step - loss: 0.3557 - accuracy: 0.8151\n",
            "Epoch 89/600\n",
            "3/3 [==============================] - 0s 33ms/step - loss: 0.5193 - accuracy: 0.7487\n",
            "Epoch 90/600\n",
            "3/3 [==============================] - 0s 30ms/step - loss: 0.4507 - accuracy: 0.7604\n",
            "Epoch 91/600\n",
            "3/3 [==============================] - 0s 34ms/step - loss: 0.4669 - accuracy: 0.7760\n",
            "Epoch 92/600\n",
            "3/3 [==============================] - 0s 34ms/step - loss: 0.4094 - accuracy: 0.8529\n",
            "Epoch 93/600\n",
            "3/3 [==============================] - 0s 37ms/step - loss: 0.3629 - accuracy: 0.8451\n",
            "Epoch 94/600\n",
            "3/3 [==============================] - 0s 33ms/step - loss: 0.3566 - accuracy: 0.8307\n",
            "Epoch 95/600\n",
            "3/3 [==============================] - 0s 36ms/step - loss: 0.3683 - accuracy: 0.8294\n",
            "Epoch 96/600\n",
            "3/3 [==============================] - 0s 34ms/step - loss: 0.4123 - accuracy: 0.7708\n",
            "Epoch 97/600\n",
            "3/3 [==============================] - 0s 35ms/step - loss: 0.3509 - accuracy: 0.8138\n",
            "Epoch 98/600\n",
            "3/3 [==============================] - 0s 31ms/step - loss: 0.3385 - accuracy: 0.8451\n",
            "Epoch 99/600\n",
            "3/3 [==============================] - 0s 32ms/step - loss: 0.4123 - accuracy: 0.7513\n",
            "Epoch 100/600\n",
            "3/3 [==============================] - 0s 37ms/step - loss: 0.3766 - accuracy: 0.8034\n",
            "Epoch 101/600\n",
            "3/3 [==============================] - 0s 44ms/step - loss: 0.3982 - accuracy: 0.7865\n",
            "Epoch 102/600\n",
            "3/3 [==============================] - 0s 35ms/step - loss: 0.3981 - accuracy: 0.7773\n",
            "Epoch 103/600\n",
            "3/3 [==============================] - 0s 37ms/step - loss: 0.5188 - accuracy: 0.7995\n",
            "Epoch 104/600\n",
            "3/3 [==============================] - 0s 41ms/step - loss: 0.4370 - accuracy: 0.7669\n",
            "Epoch 105/600\n",
            "3/3 [==============================] - 0s 36ms/step - loss: 0.4134 - accuracy: 0.7878\n",
            "Epoch 106/600\n",
            "3/3 [==============================] - 0s 36ms/step - loss: 0.3533 - accuracy: 0.8398\n",
            "Epoch 107/600\n",
            "3/3 [==============================] - 0s 36ms/step - loss: 0.3583 - accuracy: 0.8073\n",
            "Epoch 108/600\n",
            "3/3 [==============================] - 0s 40ms/step - loss: 0.3442 - accuracy: 0.8008\n",
            "Epoch 109/600\n",
            "3/3 [==============================] - 0s 37ms/step - loss: 0.3986 - accuracy: 0.7604\n",
            "Epoch 110/600\n",
            "3/3 [==============================] - 0s 38ms/step - loss: 0.4287 - accuracy: 0.7604\n",
            "Epoch 111/600\n",
            "3/3 [==============================] - 0s 42ms/step - loss: 0.3759 - accuracy: 0.7878\n",
            "Epoch 112/600\n",
            "3/3 [==============================] - 0s 43ms/step - loss: 0.3229 - accuracy: 0.8359\n",
            "Epoch 113/600\n",
            "3/3 [==============================] - 0s 46ms/step - loss: 0.3857 - accuracy: 0.7109\n",
            "Epoch 114/600\n",
            "3/3 [==============================] - 0s 40ms/step - loss: 0.3323 - accuracy: 0.8672\n",
            "Epoch 115/600\n",
            "3/3 [==============================] - 0s 39ms/step - loss: 0.3829 - accuracy: 0.8086\n",
            "Epoch 116/600\n",
            "3/3 [==============================] - 0s 44ms/step - loss: 0.3691 - accuracy: 0.8229\n",
            "Epoch 117/600\n",
            "3/3 [==============================] - 0s 42ms/step - loss: 0.3845 - accuracy: 0.7135\n",
            "Epoch 118/600\n",
            "3/3 [==============================] - 0s 43ms/step - loss: 0.2784 - accuracy: 0.8398\n",
            "Epoch 119/600\n",
            "3/3 [==============================] - 0s 43ms/step - loss: 0.4267 - accuracy: 0.7669\n",
            "Epoch 120/600\n",
            "3/3 [==============================] - 0s 42ms/step - loss: 0.3087 - accuracy: 0.8750\n",
            "Epoch 121/600\n",
            "3/3 [==============================] - 0s 43ms/step - loss: 0.3288 - accuracy: 0.7956\n",
            "Epoch 122/600\n",
            "3/3 [==============================] - 0s 44ms/step - loss: 0.3154 - accuracy: 0.8984\n",
            "Epoch 123/600\n",
            "3/3 [==============================] - 0s 39ms/step - loss: 0.4034 - accuracy: 0.7839\n",
            "Epoch 124/600\n",
            "3/3 [==============================] - 0s 40ms/step - loss: 0.4238 - accuracy: 0.7409\n",
            "Epoch 125/600\n",
            "3/3 [==============================] - 0s 42ms/step - loss: 0.2922 - accuracy: 0.8776\n",
            "Epoch 126/600\n",
            "3/3 [==============================] - 0s 40ms/step - loss: 0.3492 - accuracy: 0.8281\n",
            "Epoch 127/600\n",
            "3/3 [==============================] - 0s 41ms/step - loss: 0.2861 - accuracy: 0.8854\n",
            "Epoch 128/600\n",
            "3/3 [==============================] - 0s 44ms/step - loss: 0.5061 - accuracy: 0.7565\n",
            "Epoch 129/600\n",
            "3/3 [==============================] - 0s 43ms/step - loss: 0.4017 - accuracy: 0.7656\n",
            "Epoch 130/600\n",
            "3/3 [==============================] - 0s 42ms/step - loss: 0.3527 - accuracy: 0.8451\n",
            "Epoch 131/600\n",
            "3/3 [==============================] - 0s 44ms/step - loss: 0.3388 - accuracy: 0.8503\n",
            "Epoch 132/600\n",
            "3/3 [==============================] - 0s 48ms/step - loss: 0.3527 - accuracy: 0.7786\n",
            "Epoch 133/600\n",
            "3/3 [==============================] - 0s 53ms/step - loss: 0.3220 - accuracy: 0.7982\n",
            "Epoch 134/600\n",
            "3/3 [==============================] - 0s 46ms/step - loss: 0.2864 - accuracy: 0.8997\n",
            "Epoch 135/600\n",
            "3/3 [==============================] - 0s 44ms/step - loss: 0.4117 - accuracy: 0.7695\n",
            "Epoch 136/600\n",
            "3/3 [==============================] - 0s 45ms/step - loss: 0.3754 - accuracy: 0.8711\n",
            "Epoch 137/600\n",
            "3/3 [==============================] - 0s 46ms/step - loss: 0.3692 - accuracy: 0.8320\n",
            "Epoch 138/600\n",
            "3/3 [==============================] - 0s 46ms/step - loss: 0.2772 - accuracy: 0.8633\n",
            "Epoch 139/600\n",
            "3/3 [==============================] - 0s 52ms/step - loss: 0.3052 - accuracy: 0.8659\n",
            "Epoch 140/600\n",
            "3/3 [==============================] - 0s 49ms/step - loss: 0.3637 - accuracy: 0.7930\n",
            "Epoch 141/600\n",
            "3/3 [==============================] - 0s 52ms/step - loss: 0.4661 - accuracy: 0.8151\n",
            "Epoch 142/600\n",
            "3/3 [==============================] - 0s 45ms/step - loss: 0.2434 - accuracy: 0.8958\n",
            "Epoch 143/600\n",
            "3/3 [==============================] - 0s 48ms/step - loss: 0.3624 - accuracy: 0.8008\n",
            "Epoch 144/600\n",
            "3/3 [==============================] - 0s 46ms/step - loss: 0.3273 - accuracy: 0.8021\n",
            "Epoch 145/600\n",
            "3/3 [==============================] - 0s 48ms/step - loss: 0.3337 - accuracy: 0.7995\n",
            "Epoch 146/600\n",
            "3/3 [==============================] - 0s 33ms/step - loss: 0.3923 - accuracy: 0.7852\n",
            "Epoch 147/600\n",
            "3/3 [==============================] - 0s 34ms/step - loss: 0.3967 - accuracy: 0.8451\n",
            "Epoch 148/600\n",
            "3/3 [==============================] - 0s 42ms/step - loss: 0.4273 - accuracy: 0.8008\n",
            "Epoch 149/600\n",
            "3/3 [==============================] - 0s 32ms/step - loss: 0.3485 - accuracy: 0.8359\n",
            "Epoch 150/600\n",
            "3/3 [==============================] - 0s 33ms/step - loss: 0.3280 - accuracy: 0.8398\n",
            "Epoch 151/600\n",
            "3/3 [==============================] - 0s 34ms/step - loss: 0.3580 - accuracy: 0.8047\n",
            "Epoch 152/600\n",
            "3/3 [==============================] - 0s 34ms/step - loss: 0.3478 - accuracy: 0.7878\n",
            "Epoch 153/600\n",
            "3/3 [==============================] - 0s 33ms/step - loss: 0.3125 - accuracy: 0.8698\n",
            "Epoch 154/600\n",
            "3/3 [==============================] - 0s 33ms/step - loss: 0.3560 - accuracy: 0.8333\n",
            "Epoch 155/600\n",
            "3/3 [==============================] - 0s 35ms/step - loss: 0.2466 - accuracy: 0.9141\n",
            "Epoch 156/600\n",
            "3/3 [==============================] - 0s 31ms/step - loss: 0.3056 - accuracy: 0.8294\n",
            "Epoch 157/600\n",
            "3/3 [==============================] - 0s 33ms/step - loss: 0.3351 - accuracy: 0.8906\n",
            "Epoch 158/600\n",
            "3/3 [==============================] - 0s 38ms/step - loss: 0.3687 - accuracy: 0.8424\n",
            "Epoch 159/600\n",
            "3/3 [==============================] - 0s 36ms/step - loss: 0.6410 - accuracy: 0.8320\n",
            "Epoch 160/600\n",
            "3/3 [==============================] - 0s 38ms/step - loss: 0.3798 - accuracy: 0.7773\n",
            "Epoch 161/600\n",
            "3/3 [==============================] - 0s 39ms/step - loss: 0.4228 - accuracy: 0.7826\n",
            "Epoch 162/600\n",
            "3/3 [==============================] - 0s 36ms/step - loss: 0.3309 - accuracy: 0.8372\n",
            "Epoch 163/600\n",
            "3/3 [==============================] - 0s 31ms/step - loss: 0.4605 - accuracy: 0.7383\n",
            "Epoch 164/600\n",
            "3/3 [==============================] - 0s 31ms/step - loss: 0.3871 - accuracy: 0.8424\n",
            "Epoch 165/600\n",
            "3/3 [==============================] - 0s 35ms/step - loss: 0.3591 - accuracy: 0.8294\n",
            "Epoch 166/600\n",
            "3/3 [==============================] - 0s 30ms/step - loss: 0.3511 - accuracy: 0.8255\n",
            "Epoch 167/600\n",
            "3/3 [==============================] - 0s 34ms/step - loss: 0.3134 - accuracy: 0.8060\n",
            "Epoch 168/600\n",
            "3/3 [==============================] - 0s 34ms/step - loss: 0.2549 - accuracy: 0.8685\n",
            "Epoch 169/600\n",
            "3/3 [==============================] - 0s 36ms/step - loss: 0.4138 - accuracy: 0.7760\n",
            "Epoch 170/600\n",
            "3/3 [==============================] - 0s 33ms/step - loss: 0.3567 - accuracy: 0.8151\n",
            "Epoch 171/600\n",
            "3/3 [==============================] - 0s 31ms/step - loss: 0.4655 - accuracy: 0.7617\n",
            "Epoch 172/600\n",
            "3/3 [==============================] - 0s 33ms/step - loss: 0.3821 - accuracy: 0.7969\n",
            "Epoch 173/600\n",
            "3/3 [==============================] - 0s 31ms/step - loss: 0.3599 - accuracy: 0.8125\n",
            "Epoch 174/600\n",
            "3/3 [==============================] - 0s 30ms/step - loss: 0.3877 - accuracy: 0.7969\n",
            "Epoch 175/600\n",
            "3/3 [==============================] - 0s 34ms/step - loss: 0.3466 - accuracy: 0.8229\n",
            "Epoch 176/600\n",
            "3/3 [==============================] - 0s 36ms/step - loss: 0.3935 - accuracy: 0.8008\n",
            "Epoch 177/600\n",
            "3/3 [==============================] - 0s 31ms/step - loss: 0.3762 - accuracy: 0.7865\n",
            "Epoch 178/600\n",
            "3/3 [==============================] - 0s 34ms/step - loss: 0.3126 - accuracy: 0.8424\n",
            "Epoch 179/600\n",
            "3/3 [==============================] - 0s 36ms/step - loss: 0.2399 - accuracy: 0.8464\n",
            "Epoch 180/600\n",
            "3/3 [==============================] - 0s 33ms/step - loss: 0.4397 - accuracy: 0.7865\n",
            "Epoch 181/600\n",
            "3/3 [==============================] - 0s 36ms/step - loss: 0.3145 - accuracy: 0.8620\n",
            "Epoch 182/600\n",
            "3/3 [==============================] - 0s 34ms/step - loss: 0.3525 - accuracy: 0.8802\n",
            "Epoch 183/600\n",
            "3/3 [==============================] - 0s 38ms/step - loss: 0.4410 - accuracy: 0.8060\n",
            "Epoch 184/600\n",
            "3/3 [==============================] - 0s 35ms/step - loss: 0.3476 - accuracy: 0.8151\n",
            "Epoch 185/600\n",
            "3/3 [==============================] - 0s 34ms/step - loss: 0.3673 - accuracy: 0.8151\n",
            "Epoch 186/600\n",
            "3/3 [==============================] - 0s 30ms/step - loss: 0.3728 - accuracy: 0.8125\n",
            "Epoch 187/600\n",
            "3/3 [==============================] - 0s 34ms/step - loss: 0.2865 - accuracy: 0.8633\n",
            "Epoch 188/600\n",
            "3/3 [==============================] - 0s 37ms/step - loss: 0.4795 - accuracy: 0.7096\n",
            "Epoch 189/600\n",
            "3/3 [==============================] - 0s 37ms/step - loss: 0.4342 - accuracy: 0.8333\n",
            "Epoch 190/600\n",
            "3/3 [==============================] - 0s 32ms/step - loss: 0.3699 - accuracy: 0.7695\n",
            "Epoch 191/600\n",
            "3/3 [==============================] - 0s 32ms/step - loss: 0.2778 - accuracy: 0.9492\n",
            "Epoch 192/600\n",
            "3/3 [==============================] - 0s 32ms/step - loss: 0.3098 - accuracy: 0.8490\n",
            "Epoch 193/600\n",
            "3/3 [==============================] - 0s 38ms/step - loss: 0.3314 - accuracy: 0.8047\n",
            "Epoch 194/600\n",
            "3/3 [==============================] - 0s 33ms/step - loss: 0.2466 - accuracy: 0.9206\n",
            "Epoch 195/600\n",
            "3/3 [==============================] - 0s 39ms/step - loss: 0.2170 - accuracy: 0.9036\n",
            "Epoch 196/600\n",
            "3/3 [==============================] - 0s 39ms/step - loss: 0.4132 - accuracy: 0.8646\n",
            "Epoch 197/600\n",
            "3/3 [==============================] - 0s 31ms/step - loss: 0.2785 - accuracy: 0.8672\n",
            "Epoch 198/600\n",
            "3/3 [==============================] - 0s 31ms/step - loss: 0.4871 - accuracy: 0.7695\n",
            "Epoch 199/600\n",
            "3/3 [==============================] - 0s 34ms/step - loss: 0.2836 - accuracy: 0.8529\n",
            "Epoch 200/600\n",
            "3/3 [==============================] - 0s 32ms/step - loss: 0.4598 - accuracy: 0.7721\n",
            "Epoch 201/600\n",
            "3/3 [==============================] - 0s 36ms/step - loss: 0.4037 - accuracy: 0.7422\n",
            "Epoch 202/600\n",
            "3/3 [==============================] - 0s 36ms/step - loss: 0.2933 - accuracy: 0.8490\n",
            "Epoch 203/600\n",
            "3/3 [==============================] - 0s 36ms/step - loss: 0.3119 - accuracy: 0.8477\n",
            "Epoch 204/600\n",
            "3/3 [==============================] - 0s 33ms/step - loss: 0.3357 - accuracy: 0.8385\n",
            "Epoch 205/600\n",
            "3/3 [==============================] - 0s 43ms/step - loss: 0.3000 - accuracy: 0.8945\n",
            "Epoch 206/600\n",
            "3/3 [==============================] - 0s 36ms/step - loss: 0.2743 - accuracy: 0.8346\n",
            "Epoch 207/600\n",
            "3/3 [==============================] - 0s 34ms/step - loss: 0.3297 - accuracy: 0.8398\n",
            "Epoch 208/600\n",
            "3/3 [==============================] - 0s 33ms/step - loss: 0.3062 - accuracy: 0.8945\n",
            "Epoch 209/600\n",
            "3/3 [==============================] - 0s 32ms/step - loss: 0.3297 - accuracy: 0.8516\n",
            "Epoch 210/600\n",
            "3/3 [==============================] - 0s 33ms/step - loss: 0.3564 - accuracy: 0.7852\n",
            "Epoch 211/600\n",
            "3/3 [==============================] - 0s 31ms/step - loss: 0.3887 - accuracy: 0.8281\n",
            "Epoch 212/600\n",
            "3/3 [==============================] - 0s 36ms/step - loss: 0.2551 - accuracy: 0.9141\n",
            "Epoch 213/600\n",
            "3/3 [==============================] - 0s 30ms/step - loss: 0.2352 - accuracy: 0.9219\n",
            "Epoch 214/600\n",
            "3/3 [==============================] - 0s 37ms/step - loss: 0.2455 - accuracy: 0.8789\n",
            "Epoch 215/600\n",
            "3/3 [==============================] - 0s 33ms/step - loss: 0.3292 - accuracy: 0.8620\n",
            "Epoch 216/600\n",
            "3/3 [==============================] - 0s 35ms/step - loss: 0.3011 - accuracy: 0.8646\n",
            "Epoch 217/600\n",
            "3/3 [==============================] - 0s 36ms/step - loss: 0.3138 - accuracy: 0.7956\n",
            "Epoch 218/600\n",
            "3/3 [==============================] - 0s 37ms/step - loss: 0.3005 - accuracy: 0.8711\n",
            "Epoch 219/600\n",
            "3/3 [==============================] - 0s 32ms/step - loss: 0.3542 - accuracy: 0.7760\n",
            "Epoch 220/600\n",
            "3/3 [==============================] - 0s 39ms/step - loss: 0.2912 - accuracy: 0.8451\n",
            "Epoch 221/600\n",
            "3/3 [==============================] - 0s 35ms/step - loss: 0.2838 - accuracy: 0.8581\n",
            "Epoch 222/600\n",
            "3/3 [==============================] - 0s 38ms/step - loss: 0.3465 - accuracy: 0.8359\n",
            "Epoch 223/600\n",
            "3/3 [==============================] - 0s 46ms/step - loss: 0.3488 - accuracy: 0.8151\n",
            "Epoch 224/600\n",
            "3/3 [==============================] - 0s 33ms/step - loss: 0.2859 - accuracy: 0.8503\n",
            "Epoch 225/600\n",
            "3/3 [==============================] - 0s 31ms/step - loss: 0.4964 - accuracy: 0.8125\n",
            "Epoch 226/600\n",
            "3/3 [==============================] - 0s 31ms/step - loss: 0.3295 - accuracy: 0.8438\n",
            "Epoch 227/600\n",
            "3/3 [==============================] - 0s 33ms/step - loss: 0.4150 - accuracy: 0.8216\n",
            "Epoch 228/600\n",
            "3/3 [==============================] - 0s 35ms/step - loss: 0.4368 - accuracy: 0.7669\n",
            "Epoch 229/600\n",
            "3/3 [==============================] - 0s 39ms/step - loss: 0.3366 - accuracy: 0.9128\n",
            "Epoch 230/600\n",
            "3/3 [==============================] - 0s 32ms/step - loss: 0.4441 - accuracy: 0.7982\n",
            "Epoch 231/600\n",
            "3/3 [==============================] - 0s 36ms/step - loss: 0.2561 - accuracy: 0.8789\n",
            "Epoch 232/600\n",
            "3/3 [==============================] - 0s 34ms/step - loss: 0.3742 - accuracy: 0.8568\n",
            "Epoch 233/600\n",
            "3/3 [==============================] - 0s 35ms/step - loss: 0.3820 - accuracy: 0.8424\n",
            "Epoch 234/600\n",
            "3/3 [==============================] - 0s 37ms/step - loss: 0.3876 - accuracy: 0.7995\n",
            "Epoch 235/600\n",
            "3/3 [==============================] - 0s 37ms/step - loss: 0.3730 - accuracy: 0.8138\n",
            "Epoch 236/600\n",
            "3/3 [==============================] - 0s 34ms/step - loss: 0.3050 - accuracy: 0.8516\n",
            "Epoch 237/600\n",
            "3/3 [==============================] - 0s 34ms/step - loss: 0.3704 - accuracy: 0.7161\n",
            "Epoch 238/600\n",
            "3/3 [==============================] - 0s 34ms/step - loss: 0.2889 - accuracy: 0.8698\n",
            "Epoch 239/600\n",
            "3/3 [==============================] - 0s 30ms/step - loss: 0.3809 - accuracy: 0.7995\n",
            "Epoch 240/600\n",
            "3/3 [==============================] - 0s 31ms/step - loss: 0.2658 - accuracy: 0.8932\n",
            "Epoch 241/600\n",
            "3/3 [==============================] - 0s 35ms/step - loss: 0.2544 - accuracy: 0.8984\n",
            "Epoch 242/600\n",
            "3/3 [==============================] - 0s 34ms/step - loss: 0.2753 - accuracy: 0.8646\n",
            "Epoch 243/600\n",
            "3/3 [==============================] - 0s 34ms/step - loss: 0.2932 - accuracy: 0.8789\n",
            "Epoch 244/600\n",
            "3/3 [==============================] - 0s 32ms/step - loss: 0.2432 - accuracy: 0.8880\n",
            "Epoch 245/600\n",
            "3/3 [==============================] - 0s 29ms/step - loss: 0.2406 - accuracy: 0.8776\n",
            "Epoch 246/600\n",
            "3/3 [==============================] - 0s 31ms/step - loss: 0.3315 - accuracy: 0.8620\n",
            "Epoch 247/600\n",
            "3/3 [==============================] - 0s 31ms/step - loss: 0.3325 - accuracy: 0.8503\n",
            "Epoch 248/600\n",
            "3/3 [==============================] - 0s 36ms/step - loss: 0.2289 - accuracy: 0.8880\n",
            "Epoch 249/600\n",
            "3/3 [==============================] - 0s 36ms/step - loss: 0.2668 - accuracy: 0.8620\n",
            "Epoch 250/600\n",
            "3/3 [==============================] - 0s 30ms/step - loss: 0.4595 - accuracy: 0.8464\n",
            "Epoch 251/600\n",
            "3/3 [==============================] - 0s 30ms/step - loss: 0.2448 - accuracy: 0.9167\n",
            "Epoch 252/600\n",
            "3/3 [==============================] - 0s 32ms/step - loss: 0.3492 - accuracy: 0.7669\n",
            "Epoch 253/600\n",
            "3/3 [==============================] - 0s 34ms/step - loss: 0.3070 - accuracy: 0.8568\n",
            "Epoch 254/600\n",
            "3/3 [==============================] - 0s 35ms/step - loss: 0.2263 - accuracy: 0.9284\n",
            "Epoch 255/600\n",
            "3/3 [==============================] - 0s 33ms/step - loss: 0.4291 - accuracy: 0.7487\n",
            "Epoch 256/600\n",
            "3/3 [==============================] - 0s 36ms/step - loss: 0.4446 - accuracy: 0.7930\n",
            "Epoch 257/600\n",
            "3/3 [==============================] - 0s 34ms/step - loss: 0.3000 - accuracy: 0.8581\n",
            "Epoch 258/600\n",
            "3/3 [==============================] - 0s 35ms/step - loss: 0.3389 - accuracy: 0.8542\n",
            "Epoch 259/600\n",
            "3/3 [==============================] - 0s 39ms/step - loss: 0.2055 - accuracy: 0.9089\n",
            "Epoch 260/600\n",
            "3/3 [==============================] - 0s 42ms/step - loss: 0.2538 - accuracy: 0.8945\n",
            "Epoch 261/600\n",
            "3/3 [==============================] - 0s 36ms/step - loss: 0.2072 - accuracy: 0.9128\n",
            "Epoch 262/600\n",
            "3/3 [==============================] - 0s 38ms/step - loss: 0.2472 - accuracy: 0.8750\n",
            "Epoch 263/600\n",
            "3/3 [==============================] - 0s 40ms/step - loss: 0.2918 - accuracy: 0.8802\n",
            "Epoch 264/600\n",
            "3/3 [==============================] - 0s 39ms/step - loss: 0.2779 - accuracy: 0.8594\n",
            "Epoch 265/600\n",
            "3/3 [==============================] - 0s 37ms/step - loss: 0.3045 - accuracy: 0.8776\n",
            "Epoch 266/600\n",
            "3/3 [==============================] - 0s 31ms/step - loss: 0.2320 - accuracy: 0.8815\n",
            "Epoch 267/600\n",
            "3/3 [==============================] - 0s 34ms/step - loss: 0.2380 - accuracy: 0.8945\n",
            "Epoch 268/600\n",
            "3/3 [==============================] - 0s 32ms/step - loss: 0.3055 - accuracy: 0.8099\n",
            "Epoch 269/600\n",
            "3/3 [==============================] - 0s 40ms/step - loss: 0.2503 - accuracy: 0.8672\n",
            "Epoch 270/600\n",
            "3/3 [==============================] - 0s 32ms/step - loss: 0.2460 - accuracy: 0.9271\n",
            "Epoch 271/600\n",
            "3/3 [==============================] - 0s 32ms/step - loss: 0.3101 - accuracy: 0.8633\n",
            "Epoch 272/600\n",
            "3/3 [==============================] - 0s 34ms/step - loss: 0.2449 - accuracy: 0.8737\n",
            "Epoch 273/600\n",
            "3/3 [==============================] - 0s 41ms/step - loss: 0.3922 - accuracy: 0.7747\n",
            "Epoch 274/600\n",
            "3/3 [==============================] - 0s 35ms/step - loss: 0.2813 - accuracy: 0.8581\n",
            "Epoch 275/600\n",
            "3/3 [==============================] - 0s 36ms/step - loss: 0.2804 - accuracy: 0.8411\n",
            "Epoch 276/600\n",
            "3/3 [==============================] - 0s 36ms/step - loss: 0.2174 - accuracy: 0.8893\n",
            "Epoch 277/600\n",
            "3/3 [==============================] - 0s 34ms/step - loss: 0.1808 - accuracy: 0.9479\n",
            "Epoch 278/600\n",
            "3/3 [==============================] - 0s 35ms/step - loss: 0.3198 - accuracy: 0.8268\n",
            "Epoch 279/600\n",
            "3/3 [==============================] - 0s 34ms/step - loss: 0.2056 - accuracy: 0.9349\n",
            "Epoch 280/600\n",
            "3/3 [==============================] - 0s 32ms/step - loss: 0.1340 - accuracy: 0.9440\n",
            "Epoch 281/600\n",
            "3/3 [==============================] - 0s 39ms/step - loss: 0.3267 - accuracy: 0.8333\n",
            "Epoch 282/600\n",
            "3/3 [==============================] - 0s 30ms/step - loss: 0.2630 - accuracy: 0.8698\n",
            "Epoch 283/600\n",
            "3/3 [==============================] - 0s 35ms/step - loss: 0.3605 - accuracy: 0.8229\n",
            "Epoch 284/600\n",
            "3/3 [==============================] - 0s 34ms/step - loss: 0.2902 - accuracy: 0.8620\n",
            "Epoch 285/600\n",
            "3/3 [==============================] - 0s 32ms/step - loss: 0.3367 - accuracy: 0.8385\n",
            "Epoch 286/600\n",
            "3/3 [==============================] - 0s 32ms/step - loss: 0.3049 - accuracy: 0.8776\n",
            "Epoch 287/600\n",
            "3/3 [==============================] - 0s 37ms/step - loss: 0.2608 - accuracy: 0.8568\n",
            "Epoch 288/600\n",
            "3/3 [==============================] - 0s 66ms/step - loss: 0.2576 - accuracy: 0.8867\n",
            "Epoch 289/600\n",
            "3/3 [==============================] - 0s 60ms/step - loss: 0.1779 - accuracy: 0.9427\n",
            "Epoch 290/600\n",
            "3/3 [==============================] - 0s 64ms/step - loss: 0.2836 - accuracy: 0.8945\n",
            "Epoch 291/600\n",
            "3/3 [==============================] - 0s 75ms/step - loss: 0.3492 - accuracy: 0.9023\n",
            "Epoch 292/600\n",
            "3/3 [==============================] - 0s 64ms/step - loss: 0.2369 - accuracy: 0.9036\n",
            "Epoch 293/600\n",
            "3/3 [==============================] - 0s 65ms/step - loss: 0.3264 - accuracy: 0.8359\n",
            "Epoch 294/600\n",
            "3/3 [==============================] - 0s 64ms/step - loss: 0.2852 - accuracy: 0.8815\n",
            "Epoch 295/600\n",
            "3/3 [==============================] - 0s 70ms/step - loss: 0.3117 - accuracy: 0.8555\n",
            "Epoch 296/600\n",
            "3/3 [==============================] - 0s 61ms/step - loss: 0.2055 - accuracy: 0.8841\n",
            "Epoch 297/600\n",
            "3/3 [==============================] - 0s 61ms/step - loss: 0.2809 - accuracy: 0.8698\n",
            "Epoch 298/600\n",
            "3/3 [==============================] - 0s 64ms/step - loss: 0.2695 - accuracy: 0.8724\n",
            "Epoch 299/600\n",
            "3/3 [==============================] - 0s 60ms/step - loss: 0.2108 - accuracy: 0.9023\n",
            "Epoch 300/600\n",
            "3/3 [==============================] - 0s 66ms/step - loss: 0.1808 - accuracy: 0.9362\n",
            "Epoch 301/600\n",
            "3/3 [==============================] - 0s 66ms/step - loss: 0.2877 - accuracy: 0.8516\n",
            "Epoch 302/600\n",
            "3/3 [==============================] - 0s 69ms/step - loss: 0.3048 - accuracy: 0.8542\n",
            "Epoch 303/600\n",
            "3/3 [==============================] - 0s 72ms/step - loss: 0.2470 - accuracy: 0.9062\n",
            "Epoch 304/600\n",
            "3/3 [==============================] - 0s 73ms/step - loss: 0.2415 - accuracy: 0.9076\n",
            "Epoch 305/600\n",
            "3/3 [==============================] - 0s 66ms/step - loss: 0.2473 - accuracy: 0.8542\n",
            "Epoch 306/600\n",
            "3/3 [==============================] - 0s 68ms/step - loss: 0.1593 - accuracy: 0.9453\n",
            "Epoch 307/600\n",
            "3/3 [==============================] - 0s 68ms/step - loss: 0.2585 - accuracy: 0.8503\n",
            "Epoch 308/600\n",
            "3/3 [==============================] - 0s 70ms/step - loss: 0.2987 - accuracy: 0.8659\n",
            "Epoch 309/600\n",
            "3/3 [==============================] - 0s 64ms/step - loss: 0.2320 - accuracy: 0.9141\n",
            "Epoch 310/600\n",
            "3/3 [==============================] - 0s 59ms/step - loss: 0.2835 - accuracy: 0.8464\n",
            "Epoch 311/600\n",
            "3/3 [==============================] - 0s 66ms/step - loss: 0.2341 - accuracy: 0.8997\n",
            "Epoch 312/600\n",
            "3/3 [==============================] - 0s 65ms/step - loss: 0.1845 - accuracy: 0.8906\n",
            "Epoch 313/600\n",
            "3/3 [==============================] - 0s 59ms/step - loss: 0.2109 - accuracy: 0.9128\n",
            "Epoch 314/600\n",
            "3/3 [==============================] - 0s 64ms/step - loss: 0.2610 - accuracy: 0.8789\n",
            "Epoch 315/600\n",
            "3/3 [==============================] - 0s 62ms/step - loss: 0.2817 - accuracy: 0.8776\n",
            "Epoch 316/600\n",
            "3/3 [==============================] - 0s 62ms/step - loss: 0.3411 - accuracy: 0.8086\n",
            "Epoch 317/600\n",
            "3/3 [==============================] - 0s 67ms/step - loss: 0.2537 - accuracy: 0.8893\n",
            "Epoch 318/600\n",
            "3/3 [==============================] - 0s 66ms/step - loss: 0.2304 - accuracy: 0.8867\n",
            "Epoch 319/600\n",
            "3/3 [==============================] - 0s 69ms/step - loss: 0.2450 - accuracy: 0.8893\n",
            "Epoch 320/600\n",
            "3/3 [==============================] - 0s 66ms/step - loss: 0.1988 - accuracy: 0.9388\n",
            "Epoch 321/600\n",
            "3/3 [==============================] - 0s 67ms/step - loss: 0.2997 - accuracy: 0.8880\n",
            "Epoch 322/600\n",
            "3/3 [==============================] - 0s 67ms/step - loss: 0.2739 - accuracy: 0.8438\n",
            "Epoch 323/600\n",
            "3/3 [==============================] - 0s 69ms/step - loss: 0.3620 - accuracy: 0.7682\n",
            "Epoch 324/600\n",
            "3/3 [==============================] - 0s 69ms/step - loss: 0.2918 - accuracy: 0.8815\n",
            "Epoch 325/600\n",
            "3/3 [==============================] - 0s 70ms/step - loss: 0.2741 - accuracy: 0.8398\n",
            "Epoch 326/600\n",
            "3/3 [==============================] - 0s 66ms/step - loss: 0.2152 - accuracy: 0.9167\n",
            "Epoch 327/600\n",
            "3/3 [==============================] - 0s 63ms/step - loss: 0.2656 - accuracy: 0.8385\n",
            "Epoch 328/600\n",
            "3/3 [==============================] - 0s 65ms/step - loss: 0.2744 - accuracy: 0.8789\n",
            "Epoch 329/600\n",
            "3/3 [==============================] - 0s 72ms/step - loss: 0.2923 - accuracy: 0.8372\n",
            "Epoch 330/600\n",
            "3/3 [==============================] - 0s 68ms/step - loss: 0.2404 - accuracy: 0.8984\n",
            "Epoch 331/600\n",
            "3/3 [==============================] - 0s 65ms/step - loss: 0.2432 - accuracy: 0.8841\n",
            "Epoch 332/600\n",
            "3/3 [==============================] - 0s 68ms/step - loss: 0.2080 - accuracy: 0.9141\n",
            "Epoch 333/600\n",
            "3/3 [==============================] - 0s 63ms/step - loss: 0.1640 - accuracy: 0.9349\n",
            "Epoch 334/600\n",
            "3/3 [==============================] - 0s 66ms/step - loss: 0.1478 - accuracy: 0.9427\n",
            "Epoch 335/600\n",
            "3/3 [==============================] - 0s 72ms/step - loss: 0.2598 - accuracy: 0.8607\n",
            "Epoch 336/600\n",
            "3/3 [==============================] - 0s 73ms/step - loss: 0.2707 - accuracy: 0.8229\n",
            "Epoch 337/600\n",
            "3/3 [==============================] - 0s 64ms/step - loss: 0.2636 - accuracy: 0.8646\n",
            "Epoch 338/600\n",
            "3/3 [==============================] - 0s 84ms/step - loss: 0.3874 - accuracy: 0.8776\n",
            "Epoch 339/600\n",
            "3/3 [==============================] - 0s 71ms/step - loss: 0.2851 - accuracy: 0.8438\n",
            "Epoch 340/600\n",
            "3/3 [==============================] - 0s 59ms/step - loss: 0.3353 - accuracy: 0.8581\n",
            "Epoch 341/600\n",
            "3/3 [==============================] - 0s 86ms/step - loss: 0.3235 - accuracy: 0.9023\n",
            "Epoch 342/600\n",
            "3/3 [==============================] - 0s 65ms/step - loss: 0.2932 - accuracy: 0.8672\n",
            "Epoch 343/600\n",
            "3/3 [==============================] - 0s 70ms/step - loss: 0.2761 - accuracy: 0.8945\n",
            "Epoch 344/600\n",
            "3/3 [==============================] - 0s 66ms/step - loss: 0.3116 - accuracy: 0.8359\n",
            "Epoch 345/600\n",
            "3/3 [==============================] - 0s 73ms/step - loss: 0.3007 - accuracy: 0.9036\n",
            "Epoch 346/600\n",
            "3/3 [==============================] - 0s 67ms/step - loss: 0.2162 - accuracy: 0.9115\n",
            "Epoch 347/600\n",
            "3/3 [==============================] - 0s 67ms/step - loss: 0.1706 - accuracy: 0.8815\n",
            "Epoch 348/600\n",
            "3/3 [==============================] - 0s 63ms/step - loss: 0.2921 - accuracy: 0.8555\n",
            "Epoch 349/600\n",
            "3/3 [==============================] - 0s 63ms/step - loss: 0.2581 - accuracy: 0.9076\n",
            "Epoch 350/600\n",
            "3/3 [==============================] - 0s 63ms/step - loss: 0.3198 - accuracy: 0.8685\n",
            "Epoch 351/600\n",
            "3/3 [==============================] - 0s 68ms/step - loss: 0.2851 - accuracy: 0.8490\n",
            "Epoch 352/600\n",
            "3/3 [==============================] - 0s 65ms/step - loss: 0.4304 - accuracy: 0.8073\n",
            "Epoch 353/600\n",
            "3/3 [==============================] - 0s 69ms/step - loss: 0.3133 - accuracy: 0.8919\n",
            "Epoch 354/600\n",
            "3/3 [==============================] - 0s 65ms/step - loss: 0.3637 - accuracy: 0.8411\n",
            "Epoch 355/600\n",
            "3/3 [==============================] - 0s 73ms/step - loss: 0.3012 - accuracy: 0.8711\n",
            "Epoch 356/600\n",
            "3/3 [==============================] - 0s 69ms/step - loss: 0.2817 - accuracy: 0.8672\n",
            "Epoch 357/600\n",
            "3/3 [==============================] - 0s 72ms/step - loss: 0.2862 - accuracy: 0.8854\n",
            "Epoch 358/600\n",
            "3/3 [==============================] - 0s 65ms/step - loss: 0.1901 - accuracy: 0.9505\n",
            "Epoch 359/600\n",
            "3/3 [==============================] - 0s 69ms/step - loss: 0.2352 - accuracy: 0.8568\n",
            "Epoch 360/600\n",
            "3/3 [==============================] - 0s 62ms/step - loss: 0.2685 - accuracy: 0.8555\n",
            "Epoch 361/600\n",
            "3/3 [==============================] - 0s 66ms/step - loss: 0.2649 - accuracy: 0.8919\n",
            "Epoch 362/600\n",
            "3/3 [==============================] - 0s 68ms/step - loss: 0.1671 - accuracy: 0.9479\n",
            "Epoch 363/600\n",
            "3/3 [==============================] - 0s 69ms/step - loss: 0.2713 - accuracy: 0.8698\n",
            "Epoch 364/600\n",
            "3/3 [==============================] - 0s 65ms/step - loss: 0.3015 - accuracy: 0.9062\n",
            "Epoch 365/600\n",
            "3/3 [==============================] - 0s 63ms/step - loss: 0.3032 - accuracy: 0.8542\n",
            "Epoch 366/600\n",
            "3/3 [==============================] - 0s 66ms/step - loss: 0.2977 - accuracy: 0.8685\n",
            "Epoch 367/600\n",
            "3/3 [==============================] - 0s 66ms/step - loss: 0.2488 - accuracy: 0.8424\n",
            "Epoch 368/600\n",
            "3/3 [==============================] - 0s 73ms/step - loss: 0.2468 - accuracy: 0.9023\n",
            "Epoch 369/600\n",
            "3/3 [==============================] - 0s 80ms/step - loss: 0.2675 - accuracy: 0.8919\n",
            "Epoch 370/600\n",
            "3/3 [==============================] - 0s 73ms/step - loss: 0.1898 - accuracy: 0.9245\n",
            "Epoch 371/600\n",
            "3/3 [==============================] - 0s 74ms/step - loss: 0.2080 - accuracy: 0.9336\n",
            "Epoch 372/600\n",
            "3/3 [==============================] - 0s 77ms/step - loss: 0.2417 - accuracy: 0.8802\n",
            "Epoch 373/600\n",
            "3/3 [==============================] - 0s 63ms/step - loss: 0.0986 - accuracy: 0.9857\n",
            "Epoch 374/600\n",
            "3/3 [==============================] - 0s 65ms/step - loss: 0.2208 - accuracy: 0.8893\n",
            "Epoch 375/600\n",
            "3/3 [==============================] - 0s 70ms/step - loss: 0.2203 - accuracy: 0.8958\n",
            "Epoch 376/600\n",
            "3/3 [==============================] - 0s 66ms/step - loss: 0.2525 - accuracy: 0.8854\n",
            "Epoch 377/600\n",
            "3/3 [==============================] - 0s 67ms/step - loss: 0.2406 - accuracy: 0.8815\n",
            "Epoch 378/600\n",
            "3/3 [==============================] - 0s 72ms/step - loss: 0.2858 - accuracy: 0.8789\n",
            "Epoch 379/600\n",
            "3/3 [==============================] - 0s 72ms/step - loss: 0.2224 - accuracy: 0.9062\n",
            "Epoch 380/600\n",
            "3/3 [==============================] - 0s 63ms/step - loss: 0.1668 - accuracy: 0.9141\n",
            "Epoch 381/600\n",
            "3/3 [==============================] - 0s 68ms/step - loss: 0.2078 - accuracy: 0.9128\n",
            "Epoch 382/600\n",
            "3/3 [==============================] - 0s 72ms/step - loss: 0.2017 - accuracy: 0.9232\n",
            "Epoch 383/600\n",
            "3/3 [==============================] - 0s 68ms/step - loss: 0.2412 - accuracy: 0.8828\n",
            "Epoch 384/600\n",
            "3/3 [==============================] - 0s 69ms/step - loss: 0.1258 - accuracy: 0.9766\n",
            "Epoch 385/600\n",
            "3/3 [==============================] - 0s 68ms/step - loss: 0.2780 - accuracy: 0.9023\n",
            "Epoch 386/600\n",
            "3/3 [==============================] - 0s 72ms/step - loss: 0.2510 - accuracy: 0.8893\n",
            "Epoch 387/600\n",
            "3/3 [==============================] - 0s 67ms/step - loss: 0.2458 - accuracy: 0.8581\n",
            "Epoch 388/600\n",
            "3/3 [==============================] - 0s 66ms/step - loss: 0.1527 - accuracy: 0.9688\n",
            "Epoch 389/600\n",
            "3/3 [==============================] - 0s 64ms/step - loss: 0.1779 - accuracy: 0.9193\n",
            "Epoch 390/600\n",
            "3/3 [==============================] - 0s 63ms/step - loss: 0.1064 - accuracy: 0.9648\n",
            "Epoch 391/600\n",
            "3/3 [==============================] - 0s 62ms/step - loss: 0.1774 - accuracy: 0.8945\n",
            "Epoch 392/600\n",
            "3/3 [==============================] - 0s 71ms/step - loss: 0.3016 - accuracy: 0.9219\n",
            "Epoch 393/600\n",
            "3/3 [==============================] - 0s 69ms/step - loss: 0.1903 - accuracy: 0.8646\n",
            "Epoch 394/600\n",
            "3/3 [==============================] - 0s 67ms/step - loss: 0.1664 - accuracy: 0.9284\n",
            "Epoch 395/600\n",
            "3/3 [==============================] - 0s 69ms/step - loss: 0.2406 - accuracy: 0.8841\n",
            "Epoch 396/600\n",
            "3/3 [==============================] - 0s 69ms/step - loss: 0.1981 - accuracy: 0.8750\n",
            "Epoch 397/600\n",
            "3/3 [==============================] - 0s 62ms/step - loss: 0.3101 - accuracy: 0.8971\n",
            "Epoch 398/600\n",
            "3/3 [==============================] - 0s 67ms/step - loss: 0.1437 - accuracy: 0.9401\n",
            "Epoch 399/600\n",
            "3/3 [==============================] - 0s 67ms/step - loss: 0.2537 - accuracy: 0.8698\n",
            "Epoch 400/600\n",
            "3/3 [==============================] - 0s 68ms/step - loss: 0.1503 - accuracy: 0.9414\n",
            "Epoch 401/600\n",
            "3/3 [==============================] - 0s 58ms/step - loss: 0.1611 - accuracy: 0.9388\n",
            "Epoch 402/600\n",
            "3/3 [==============================] - 0s 79ms/step - loss: 0.1236 - accuracy: 0.9714\n",
            "Epoch 403/600\n",
            "3/3 [==============================] - 0s 67ms/step - loss: 0.0831 - accuracy: 0.9714\n",
            "Epoch 404/600\n",
            "3/3 [==============================] - 0s 73ms/step - loss: 0.1724 - accuracy: 0.9414\n",
            "Epoch 405/600\n",
            "3/3 [==============================] - 0s 73ms/step - loss: 0.1531 - accuracy: 0.9284\n",
            "Epoch 406/600\n",
            "3/3 [==============================] - 0s 75ms/step - loss: 0.1462 - accuracy: 0.9609\n",
            "Epoch 407/600\n",
            "3/3 [==============================] - 0s 76ms/step - loss: 0.2154 - accuracy: 0.9206\n",
            "Epoch 408/600\n",
            "3/3 [==============================] - 0s 65ms/step - loss: 0.1289 - accuracy: 0.9427\n",
            "Epoch 409/600\n",
            "3/3 [==============================] - 0s 69ms/step - loss: 0.1446 - accuracy: 0.9557\n",
            "Epoch 410/600\n",
            "3/3 [==============================] - 0s 69ms/step - loss: 0.1022 - accuracy: 0.9635\n",
            "Epoch 411/600\n",
            "3/3 [==============================] - 0s 65ms/step - loss: 0.1490 - accuracy: 0.9596\n",
            "Epoch 412/600\n",
            "3/3 [==============================] - 0s 67ms/step - loss: 0.2401 - accuracy: 0.9375\n",
            "Epoch 413/600\n",
            "3/3 [==============================] - 0s 62ms/step - loss: 0.1108 - accuracy: 0.9466\n",
            "Epoch 414/600\n",
            "3/3 [==============================] - 0s 63ms/step - loss: 0.1839 - accuracy: 0.8893\n",
            "Epoch 415/600\n",
            "3/3 [==============================] - 0s 64ms/step - loss: 0.1444 - accuracy: 0.9818\n",
            "Epoch 416/600\n",
            "3/3 [==============================] - 0s 64ms/step - loss: 0.1592 - accuracy: 0.9245\n",
            "Epoch 417/600\n",
            "3/3 [==============================] - 0s 75ms/step - loss: 0.1721 - accuracy: 0.9362\n",
            "Epoch 418/600\n",
            "3/3 [==============================] - 0s 66ms/step - loss: 0.2704 - accuracy: 0.9076\n",
            "Epoch 419/600\n",
            "3/3 [==============================] - 0s 72ms/step - loss: 0.1540 - accuracy: 0.9349\n",
            "Epoch 420/600\n",
            "3/3 [==============================] - 0s 69ms/step - loss: 0.1586 - accuracy: 0.9323\n",
            "Epoch 421/600\n",
            "3/3 [==============================] - 0s 64ms/step - loss: 0.1579 - accuracy: 0.9167\n",
            "Epoch 422/600\n",
            "3/3 [==============================] - 0s 67ms/step - loss: 0.1483 - accuracy: 0.8789\n",
            "Epoch 423/600\n",
            "3/3 [==============================] - 0s 66ms/step - loss: 0.0912 - accuracy: 0.9492\n",
            "Epoch 424/600\n",
            "3/3 [==============================] - 0s 77ms/step - loss: 0.1106 - accuracy: 0.9688\n",
            "Epoch 425/600\n",
            "3/3 [==============================] - 0s 68ms/step - loss: 0.1489 - accuracy: 0.9362\n",
            "Epoch 426/600\n",
            "3/3 [==============================] - 0s 66ms/step - loss: 0.1594 - accuracy: 0.9193\n",
            "Epoch 427/600\n",
            "3/3 [==============================] - 0s 70ms/step - loss: 0.1117 - accuracy: 0.9688\n",
            "Epoch 428/600\n",
            "3/3 [==============================] - 0s 66ms/step - loss: 0.1320 - accuracy: 0.9388\n",
            "Epoch 429/600\n",
            "3/3 [==============================] - 0s 67ms/step - loss: 0.1185 - accuracy: 0.9375\n",
            "Epoch 430/600\n",
            "3/3 [==============================] - 0s 66ms/step - loss: 0.1616 - accuracy: 0.9219\n",
            "Epoch 431/600\n",
            "3/3 [==============================] - 0s 63ms/step - loss: 0.0988 - accuracy: 0.9570\n",
            "Epoch 432/600\n",
            "3/3 [==============================] - 0s 68ms/step - loss: 0.1046 - accuracy: 0.9648\n",
            "Epoch 433/600\n",
            "3/3 [==============================] - 0s 70ms/step - loss: 0.1369 - accuracy: 0.9414\n",
            "Epoch 434/600\n",
            "3/3 [==============================] - 0s 70ms/step - loss: 0.1353 - accuracy: 0.9609\n",
            "Epoch 435/600\n",
            "3/3 [==============================] - 0s 66ms/step - loss: 0.0943 - accuracy: 0.9505\n",
            "Epoch 436/600\n",
            "3/3 [==============================] - 0s 65ms/step - loss: 0.1100 - accuracy: 0.9688\n",
            "Epoch 437/600\n",
            "3/3 [==============================] - 0s 66ms/step - loss: 0.0803 - accuracy: 0.9727\n",
            "Epoch 438/600\n",
            "3/3 [==============================] - 0s 67ms/step - loss: 0.1143 - accuracy: 0.9401\n",
            "Epoch 439/600\n",
            "3/3 [==============================] - 0s 67ms/step - loss: 0.0688 - accuracy: 1.0000\n",
            "Epoch 440/600\n",
            "3/3 [==============================] - 0s 62ms/step - loss: 0.1291 - accuracy: 0.9427\n",
            "Epoch 441/600\n",
            "3/3 [==============================] - 0s 65ms/step - loss: 0.0654 - accuracy: 0.9674\n",
            "Epoch 442/600\n",
            "3/3 [==============================] - 0s 69ms/step - loss: 0.0963 - accuracy: 0.9557\n",
            "Epoch 443/600\n",
            "3/3 [==============================] - 0s 63ms/step - loss: 0.2046 - accuracy: 0.9167\n",
            "Epoch 444/600\n",
            "3/3 [==============================] - 0s 68ms/step - loss: 0.1636 - accuracy: 0.9232\n",
            "Epoch 445/600\n",
            "3/3 [==============================] - 0s 76ms/step - loss: 0.1170 - accuracy: 0.9648\n",
            "Epoch 446/600\n",
            "3/3 [==============================] - 0s 69ms/step - loss: 0.0659 - accuracy: 0.9896\n",
            "Epoch 447/600\n",
            "3/3 [==============================] - 0s 66ms/step - loss: 0.1822 - accuracy: 0.9310\n",
            "Epoch 448/600\n",
            "3/3 [==============================] - 0s 69ms/step - loss: 0.1218 - accuracy: 0.9609\n",
            "Epoch 449/600\n",
            "3/3 [==============================] - 0s 72ms/step - loss: 0.0563 - accuracy: 0.9740\n",
            "Epoch 450/600\n",
            "3/3 [==============================] - 0s 67ms/step - loss: 0.0820 - accuracy: 0.9518\n",
            "Epoch 451/600\n",
            "3/3 [==============================] - 0s 70ms/step - loss: 0.1360 - accuracy: 0.9336\n",
            "Epoch 452/600\n",
            "3/3 [==============================] - 0s 63ms/step - loss: 0.1143 - accuracy: 0.9779\n",
            "Epoch 453/600\n",
            "3/3 [==============================] - 0s 63ms/step - loss: 0.0992 - accuracy: 0.9740\n",
            "Epoch 454/600\n",
            "3/3 [==============================] - 0s 67ms/step - loss: 0.1291 - accuracy: 0.9740\n",
            "Epoch 455/600\n",
            "3/3 [==============================] - 0s 67ms/step - loss: 0.1259 - accuracy: 0.9505\n",
            "Epoch 456/600\n",
            "3/3 [==============================] - 0s 65ms/step - loss: 0.1233 - accuracy: 0.9427\n",
            "Epoch 457/600\n",
            "3/3 [==============================] - 0s 69ms/step - loss: 0.0929 - accuracy: 0.9427\n",
            "Epoch 458/600\n",
            "3/3 [==============================] - 0s 67ms/step - loss: 0.0885 - accuracy: 0.9635\n",
            "Epoch 459/600\n",
            "3/3 [==============================] - 0s 70ms/step - loss: 0.1924 - accuracy: 0.9154\n",
            "Epoch 460/600\n",
            "3/3 [==============================] - 0s 77ms/step - loss: 0.1658 - accuracy: 0.9141\n",
            "Epoch 461/600\n",
            "3/3 [==============================] - 0s 71ms/step - loss: 0.0580 - accuracy: 0.9948\n",
            "Epoch 462/600\n",
            "3/3 [==============================] - 0s 67ms/step - loss: 0.1235 - accuracy: 0.9557\n",
            "Epoch 463/600\n",
            "3/3 [==============================] - 0s 71ms/step - loss: 0.0583 - accuracy: 0.9909\n",
            "Epoch 464/600\n",
            "3/3 [==============================] - 0s 74ms/step - loss: 0.0851 - accuracy: 0.9661\n",
            "Epoch 465/600\n",
            "3/3 [==============================] - 0s 69ms/step - loss: 0.0952 - accuracy: 0.9544\n",
            "Epoch 466/600\n",
            "3/3 [==============================] - 0s 62ms/step - loss: 0.0858 - accuracy: 0.9479\n",
            "Epoch 467/600\n",
            "3/3 [==============================] - 0s 69ms/step - loss: 0.0682 - accuracy: 0.9596\n",
            "Epoch 468/600\n",
            "3/3 [==============================] - 0s 68ms/step - loss: 0.1252 - accuracy: 0.9544\n",
            "Epoch 469/600\n",
            "3/3 [==============================] - 0s 67ms/step - loss: 0.0643 - accuracy: 1.0000\n",
            "Epoch 470/600\n",
            "3/3 [==============================] - 0s 68ms/step - loss: 0.1016 - accuracy: 0.9388\n",
            "Epoch 471/600\n",
            "3/3 [==============================] - 0s 65ms/step - loss: 0.0527 - accuracy: 0.9844\n",
            "Epoch 472/600\n",
            "3/3 [==============================] - 0s 66ms/step - loss: 0.0440 - accuracy: 0.9857\n",
            "Epoch 473/600\n",
            "3/3 [==============================] - 0s 66ms/step - loss: 0.1030 - accuracy: 0.9818\n",
            "Epoch 474/600\n",
            "3/3 [==============================] - 0s 66ms/step - loss: 0.1128 - accuracy: 0.9414\n",
            "Epoch 475/600\n",
            "3/3 [==============================] - 0s 70ms/step - loss: 0.0498 - accuracy: 0.9948\n",
            "Epoch 476/600\n",
            "3/3 [==============================] - 0s 68ms/step - loss: 0.2369 - accuracy: 0.9466\n",
            "Epoch 477/600\n",
            "3/3 [==============================] - 0s 67ms/step - loss: 0.2099 - accuracy: 0.9115\n",
            "Epoch 478/600\n",
            "3/3 [==============================] - 0s 66ms/step - loss: 0.0704 - accuracy: 0.9688\n",
            "Epoch 479/600\n",
            "3/3 [==============================] - 0s 65ms/step - loss: 0.0854 - accuracy: 0.9727\n",
            "Epoch 480/600\n",
            "3/3 [==============================] - 0s 77ms/step - loss: 0.1092 - accuracy: 0.9479\n",
            "Epoch 481/600\n",
            "3/3 [==============================] - 0s 67ms/step - loss: 0.1208 - accuracy: 0.9609\n",
            "Epoch 482/600\n",
            "3/3 [==============================] - 0s 68ms/step - loss: 0.0648 - accuracy: 0.9857\n",
            "Epoch 483/600\n",
            "3/3 [==============================] - 0s 72ms/step - loss: 0.0649 - accuracy: 0.9805\n",
            "Epoch 484/600\n",
            "3/3 [==============================] - 0s 75ms/step - loss: 0.0276 - accuracy: 0.9948\n",
            "Epoch 485/600\n",
            "3/3 [==============================] - 0s 69ms/step - loss: 0.0856 - accuracy: 0.9805\n",
            "Epoch 486/600\n",
            "3/3 [==============================] - 0s 69ms/step - loss: 0.0456 - accuracy: 0.9948\n",
            "Epoch 487/600\n",
            "3/3 [==============================] - 0s 71ms/step - loss: 0.0745 - accuracy: 0.9857\n",
            "Epoch 488/600\n",
            "3/3 [==============================] - 0s 72ms/step - loss: 0.0754 - accuracy: 0.9740\n",
            "Epoch 489/600\n",
            "3/3 [==============================] - 0s 67ms/step - loss: 0.0997 - accuracy: 0.9805\n",
            "Epoch 490/600\n",
            "3/3 [==============================] - 0s 70ms/step - loss: 0.0910 - accuracy: 0.9857\n",
            "Epoch 491/600\n",
            "3/3 [==============================] - 0s 63ms/step - loss: 0.1193 - accuracy: 0.9453\n",
            "Epoch 492/600\n",
            "3/3 [==============================] - 0s 72ms/step - loss: 0.0828 - accuracy: 0.9766\n",
            "Epoch 493/600\n",
            "3/3 [==============================] - 0s 68ms/step - loss: 0.0847 - accuracy: 0.9831\n",
            "Epoch 494/600\n",
            "3/3 [==============================] - 0s 68ms/step - loss: 0.1484 - accuracy: 0.9310\n",
            "Epoch 495/600\n",
            "3/3 [==============================] - 0s 62ms/step - loss: 0.0938 - accuracy: 0.9518\n",
            "Epoch 496/600\n",
            "3/3 [==============================] - 0s 65ms/step - loss: 0.0683 - accuracy: 0.9661\n",
            "Epoch 497/600\n",
            "3/3 [==============================] - 0s 68ms/step - loss: 0.0413 - accuracy: 0.9948\n",
            "Epoch 498/600\n",
            "3/3 [==============================] - 0s 68ms/step - loss: 0.0496 - accuracy: 0.9948\n",
            "Epoch 499/600\n",
            "3/3 [==============================] - 0s 67ms/step - loss: 0.0824 - accuracy: 0.9492\n",
            "Epoch 500/600\n",
            "3/3 [==============================] - 0s 68ms/step - loss: 0.0418 - accuracy: 0.9857\n",
            "Epoch 501/600\n",
            "3/3 [==============================] - 0s 67ms/step - loss: 0.0694 - accuracy: 0.9857\n",
            "Epoch 502/600\n",
            "3/3 [==============================] - 0s 69ms/step - loss: 0.0768 - accuracy: 0.9492\n",
            "Epoch 503/600\n",
            "3/3 [==============================] - 0s 70ms/step - loss: 0.0979 - accuracy: 0.9740\n",
            "Epoch 504/600\n",
            "3/3 [==============================] - 0s 66ms/step - loss: 0.0798 - accuracy: 0.9857\n",
            "Epoch 505/600\n",
            "3/3 [==============================] - 0s 83ms/step - loss: 0.1667 - accuracy: 0.9609\n",
            "Epoch 506/600\n",
            "3/3 [==============================] - 0s 65ms/step - loss: 0.2269 - accuracy: 0.9284\n",
            "Epoch 507/600\n",
            "3/3 [==============================] - 0s 70ms/step - loss: 0.0942 - accuracy: 0.9857\n",
            "Epoch 508/600\n",
            "3/3 [==============================] - 0s 64ms/step - loss: 0.0676 - accuracy: 0.9740\n",
            "Epoch 509/600\n",
            "3/3 [==============================] - 0s 69ms/step - loss: 0.1456 - accuracy: 0.9102\n",
            "Epoch 510/600\n",
            "3/3 [==============================] - 0s 72ms/step - loss: 0.0708 - accuracy: 0.9688\n",
            "Epoch 511/600\n",
            "3/3 [==============================] - 0s 63ms/step - loss: 0.0790 - accuracy: 0.9779\n",
            "Epoch 512/600\n",
            "3/3 [==============================] - 0s 71ms/step - loss: 0.1575 - accuracy: 0.9674\n",
            "Epoch 513/600\n",
            "3/3 [==============================] - 0s 75ms/step - loss: 0.2085 - accuracy: 0.9206\n",
            "Epoch 514/600\n",
            "3/3 [==============================] - 0s 66ms/step - loss: 0.1042 - accuracy: 0.9518\n",
            "Epoch 515/600\n",
            "3/3 [==============================] - 0s 74ms/step - loss: 0.0910 - accuracy: 0.9648\n",
            "Epoch 516/600\n",
            "3/3 [==============================] - 0s 70ms/step - loss: 0.1563 - accuracy: 0.9466\n",
            "Epoch 517/600\n",
            "3/3 [==============================] - 0s 76ms/step - loss: 0.1053 - accuracy: 0.9740\n",
            "Epoch 518/600\n",
            "3/3 [==============================] - 0s 75ms/step - loss: 0.1028 - accuracy: 0.9609\n",
            "Epoch 519/600\n",
            "3/3 [==============================] - 0s 77ms/step - loss: 0.3083 - accuracy: 0.8724\n",
            "Epoch 520/600\n",
            "3/3 [==============================] - 0s 69ms/step - loss: 0.1160 - accuracy: 0.9375\n",
            "Epoch 521/600\n",
            "3/3 [==============================] - 0s 67ms/step - loss: 0.2276 - accuracy: 0.8789\n",
            "Epoch 522/600\n",
            "3/3 [==============================] - 0s 74ms/step - loss: 0.0968 - accuracy: 0.9609\n",
            "Epoch 523/600\n",
            "3/3 [==============================] - 0s 73ms/step - loss: 0.1281 - accuracy: 0.9414\n",
            "Epoch 524/600\n",
            "3/3 [==============================] - 0s 73ms/step - loss: 0.0739 - accuracy: 0.9857\n",
            "Epoch 525/600\n",
            "3/3 [==============================] - 0s 73ms/step - loss: 0.1128 - accuracy: 0.9688\n",
            "Epoch 526/600\n",
            "3/3 [==============================] - 0s 64ms/step - loss: 0.0468 - accuracy: 0.9727\n",
            "Epoch 527/600\n",
            "3/3 [==============================] - 0s 69ms/step - loss: 0.0608 - accuracy: 0.9831\n",
            "Epoch 528/600\n",
            "3/3 [==============================] - 0s 72ms/step - loss: 0.0669 - accuracy: 0.9805\n",
            "Epoch 529/600\n",
            "3/3 [==============================] - 0s 71ms/step - loss: 0.1137 - accuracy: 0.9518\n",
            "Epoch 530/600\n",
            "3/3 [==============================] - 0s 67ms/step - loss: 0.0698 - accuracy: 0.9740\n",
            "Epoch 531/600\n",
            "3/3 [==============================] - 0s 68ms/step - loss: 0.1341 - accuracy: 0.9180\n",
            "Epoch 532/600\n",
            "3/3 [==============================] - 0s 64ms/step - loss: 0.0885 - accuracy: 0.9831\n",
            "Epoch 533/600\n",
            "3/3 [==============================] - 0s 68ms/step - loss: 0.1109 - accuracy: 0.9518\n",
            "Epoch 534/600\n",
            "3/3 [==============================] - 0s 69ms/step - loss: 0.0310 - accuracy: 0.9948\n",
            "Epoch 535/600\n",
            "3/3 [==============================] - 0s 73ms/step - loss: 0.1321 - accuracy: 0.9414\n",
            "Epoch 536/600\n",
            "3/3 [==============================] - 0s 72ms/step - loss: 0.0454 - accuracy: 1.0000\n",
            "Epoch 537/600\n",
            "3/3 [==============================] - 0s 67ms/step - loss: 0.1028 - accuracy: 0.9518\n",
            "Epoch 538/600\n",
            "3/3 [==============================] - 0s 70ms/step - loss: 0.2164 - accuracy: 0.9219\n",
            "Epoch 539/600\n",
            "3/3 [==============================] - 0s 70ms/step - loss: 0.1215 - accuracy: 0.9779\n",
            "Epoch 540/600\n",
            "3/3 [==============================] - 0s 75ms/step - loss: 0.0764 - accuracy: 1.0000\n",
            "Epoch 541/600\n",
            "3/3 [==============================] - 0s 72ms/step - loss: 0.2590 - accuracy: 0.9544\n",
            "Epoch 542/600\n",
            "3/3 [==============================] - 0s 70ms/step - loss: 0.1953 - accuracy: 0.9062\n",
            "Epoch 543/600\n",
            "3/3 [==============================] - 0s 75ms/step - loss: 0.0661 - accuracy: 0.9818\n",
            "Epoch 544/600\n",
            "3/3 [==============================] - 0s 71ms/step - loss: 0.1334 - accuracy: 0.9609\n",
            "Epoch 545/600\n",
            "3/3 [==============================] - 0s 68ms/step - loss: 0.0798 - accuracy: 0.9740\n",
            "Epoch 546/600\n",
            "3/3 [==============================] - 0s 68ms/step - loss: 0.1308 - accuracy: 0.9336\n",
            "Epoch 547/600\n",
            "3/3 [==============================] - 0s 73ms/step - loss: 0.1001 - accuracy: 0.9779\n",
            "Epoch 548/600\n",
            "3/3 [==============================] - 0s 68ms/step - loss: 0.1181 - accuracy: 0.9570\n",
            "Epoch 549/600\n",
            "3/3 [==============================] - 0s 70ms/step - loss: 0.0581 - accuracy: 0.9844\n",
            "Epoch 550/600\n",
            "3/3 [==============================] - 0s 65ms/step - loss: 0.1042 - accuracy: 0.9544\n",
            "Epoch 551/600\n",
            "3/3 [==============================] - 0s 68ms/step - loss: 0.0803 - accuracy: 0.9688\n",
            "Epoch 552/600\n",
            "3/3 [==============================] - 0s 69ms/step - loss: 0.0686 - accuracy: 0.9674\n",
            "Epoch 553/600\n",
            "3/3 [==============================] - 0s 71ms/step - loss: 0.1902 - accuracy: 0.8997\n",
            "Epoch 554/600\n",
            "3/3 [==============================] - 0s 84ms/step - loss: 0.0735 - accuracy: 0.9948\n",
            "Epoch 555/600\n",
            "3/3 [==============================] - 0s 79ms/step - loss: 0.2386 - accuracy: 0.8750\n",
            "Epoch 556/600\n",
            "3/3 [==============================] - 0s 79ms/step - loss: 0.1096 - accuracy: 0.9648\n",
            "Epoch 557/600\n",
            "3/3 [==============================] - 0s 71ms/step - loss: 0.1446 - accuracy: 0.9596\n",
            "Epoch 558/600\n",
            "3/3 [==============================] - 0s 80ms/step - loss: 0.0887 - accuracy: 0.9688\n",
            "Epoch 559/600\n",
            "3/3 [==============================] - 0s 70ms/step - loss: 0.0881 - accuracy: 0.9766\n",
            "Epoch 560/600\n",
            "3/3 [==============================] - 0s 69ms/step - loss: 0.1102 - accuracy: 0.9427\n",
            "Epoch 561/600\n",
            "3/3 [==============================] - 0s 66ms/step - loss: 0.1322 - accuracy: 0.9310\n",
            "Epoch 562/600\n",
            "3/3 [==============================] - 0s 67ms/step - loss: 0.0258 - accuracy: 1.0000\n",
            "Epoch 563/600\n",
            "3/3 [==============================] - 0s 65ms/step - loss: 0.0605 - accuracy: 0.9831\n",
            "Epoch 564/600\n",
            "3/3 [==============================] - 0s 74ms/step - loss: 0.0686 - accuracy: 0.9831\n",
            "Epoch 565/600\n",
            "3/3 [==============================] - 0s 71ms/step - loss: 0.0305 - accuracy: 0.9831\n",
            "Epoch 566/600\n",
            "3/3 [==============================] - 0s 67ms/step - loss: 0.0391 - accuracy: 0.9909\n",
            "Epoch 567/600\n",
            "3/3 [==============================] - 0s 79ms/step - loss: 0.0265 - accuracy: 1.0000\n",
            "Epoch 568/600\n",
            "3/3 [==============================] - 0s 73ms/step - loss: 0.0368 - accuracy: 1.0000\n",
            "Epoch 569/600\n",
            "3/3 [==============================] - 0s 68ms/step - loss: 0.0365 - accuracy: 0.9948\n",
            "Epoch 570/600\n",
            "3/3 [==============================] - 0s 70ms/step - loss: 0.0906 - accuracy: 0.9570\n",
            "Epoch 571/600\n",
            "3/3 [==============================] - 0s 71ms/step - loss: 0.0470 - accuracy: 0.9857\n",
            "Epoch 572/600\n",
            "3/3 [==============================] - 0s 80ms/step - loss: 0.0383 - accuracy: 1.0000\n",
            "Epoch 573/600\n",
            "3/3 [==============================] - 0s 64ms/step - loss: 0.1123 - accuracy: 0.9414\n",
            "Epoch 574/600\n",
            "3/3 [==============================] - 0s 70ms/step - loss: 0.0407 - accuracy: 1.0000\n",
            "Epoch 575/600\n",
            "3/3 [==============================] - 0s 69ms/step - loss: 0.1528 - accuracy: 0.9609\n",
            "Epoch 576/600\n",
            "3/3 [==============================] - 0s 69ms/step - loss: 0.0573 - accuracy: 0.9831\n",
            "Epoch 577/600\n",
            "3/3 [==============================] - 0s 68ms/step - loss: 0.0558 - accuracy: 0.9766\n",
            "Epoch 578/600\n",
            "3/3 [==============================] - 0s 72ms/step - loss: 0.1042 - accuracy: 0.9492\n",
            "Epoch 579/600\n",
            "3/3 [==============================] - 0s 80ms/step - loss: 0.1677 - accuracy: 0.9180\n",
            "Epoch 580/600\n",
            "3/3 [==============================] - 0s 70ms/step - loss: 0.0542 - accuracy: 1.0000\n",
            "Epoch 581/600\n",
            "3/3 [==============================] - 0s 81ms/step - loss: 0.0374 - accuracy: 0.9857\n",
            "Epoch 582/600\n",
            "3/3 [==============================] - 0s 88ms/step - loss: 0.0358 - accuracy: 0.9948\n",
            "Epoch 583/600\n",
            "3/3 [==============================] - 0s 70ms/step - loss: 0.0474 - accuracy: 0.9831\n",
            "Epoch 584/600\n",
            "3/3 [==============================] - 0s 80ms/step - loss: 0.0359 - accuracy: 0.9909\n",
            "Epoch 585/600\n",
            "3/3 [==============================] - 0s 63ms/step - loss: 0.0984 - accuracy: 0.9779\n",
            "Epoch 586/600\n",
            "3/3 [==============================] - 0s 73ms/step - loss: 0.0186 - accuracy: 1.0000\n",
            "Epoch 587/600\n",
            "3/3 [==============================] - 0s 70ms/step - loss: 0.0598 - accuracy: 0.9766\n",
            "Epoch 588/600\n",
            "3/3 [==============================] - 0s 63ms/step - loss: 0.0917 - accuracy: 0.9661\n",
            "Epoch 589/600\n",
            "3/3 [==============================] - 0s 65ms/step - loss: 0.0462 - accuracy: 0.9831\n",
            "Epoch 590/600\n",
            "3/3 [==============================] - 0s 73ms/step - loss: 0.0487 - accuracy: 0.9740\n",
            "Epoch 591/600\n",
            "3/3 [==============================] - 0s 66ms/step - loss: 0.0852 - accuracy: 0.9831\n",
            "Epoch 592/600\n",
            "3/3 [==============================] - 0s 70ms/step - loss: 0.0740 - accuracy: 0.9505\n",
            "Epoch 593/600\n",
            "3/3 [==============================] - 0s 72ms/step - loss: 0.0348 - accuracy: 0.9831\n",
            "Epoch 594/600\n",
            "3/3 [==============================] - 0s 62ms/step - loss: 0.0601 - accuracy: 0.9740\n",
            "Epoch 595/600\n",
            "3/3 [==============================] - 0s 71ms/step - loss: 0.0371 - accuracy: 1.0000\n",
            "Epoch 596/600\n",
            "3/3 [==============================] - 0s 76ms/step - loss: 0.0290 - accuracy: 0.9831\n",
            "Epoch 597/600\n",
            "3/3 [==============================] - 0s 69ms/step - loss: 0.0885 - accuracy: 0.9518\n",
            "Epoch 598/600\n",
            "3/3 [==============================] - 0s 63ms/step - loss: 0.0235 - accuracy: 0.9909\n",
            "Epoch 599/600\n",
            "3/3 [==============================] - 0s 65ms/step - loss: 0.0285 - accuracy: 0.9948\n",
            "Epoch 600/600\n",
            "3/3 [==============================] - 0s 70ms/step - loss: 0.1886 - accuracy: 0.9635\n"
          ],
          "name": "stdout"
        },
        {
          "output_type": "execute_result",
          "data": {
            "text/plain": [
              "<tensorflow.python.keras.callbacks.History at 0x7fde00142810>"
            ]
          },
          "metadata": {
            "tags": []
          },
          "execution_count": 29
        }
      ]
    },
    {
      "cell_type": "code",
      "metadata": {
        "id": "l9uXzgZP0med",
        "colab": {
          "base_uri": "https://localhost:8080/"
        },
        "outputId": "1041c7fa-d0c6-48c6-ce57-4191f1c40e38"
      },
      "source": [
        "print(\"Evaluate\")\n",
        "result = model.evaluate(ds_test)\n",
        "dict(zip(model.metrics_names, result))\n"
      ],
      "execution_count": 36,
      "outputs": [
        {
          "output_type": "stream",
          "text": [
            "Evaluate\n",
            "21/21 [==============================] - 1s 50ms/step - loss: 1.1632 - accuracy: 0.8091\n"
          ],
          "name": "stdout"
        },
        {
          "output_type": "execute_result",
          "data": {
            "text/plain": [
              "{'accuracy': 0.8090909123420715, 'loss': 1.1632131338119507}"
            ]
          },
          "metadata": {
            "tags": []
          },
          "execution_count": 36
        }
      ]
    },
    {
      "cell_type": "code",
      "metadata": {
        "id": "VxZO3b-BKzKn",
        "colab": {
          "base_uri": "https://localhost:8080/"
        },
        "outputId": "6225cf55-3ba2-444f-eb00-d26fb0bab05d"
      },
      "source": [
        "tfjs.converters.save_keras_model(model, \"saved_model\")\n"
      ],
      "execution_count": 31,
      "outputs": [
        {
          "output_type": "stream",
          "text": [
            "/usr/local/lib/python3.7/dist-packages/tensorflowjs/converters/keras_h5_conversion.py:123: H5pyDeprecationWarning: The default file mode will change to 'r' (read-only) in h5py 3.0. To suppress this warning, pass the mode you need to h5py.File(), or set the global default h5.get_config().default_file_mode, or set the environment variable H5PY_DEFAULT_READONLY=1. Available modes are: 'r', 'r+', 'w', 'w-'/'x', 'a'. See the docs for details.\n",
            "  return h5py.File(h5file)\n"
          ],
          "name": "stderr"
        }
      ]
    },
    {
      "cell_type": "code",
      "metadata": {
        "id": "kkmeVJ30eJyT"
      },
      "source": [
        ""
      ],
      "execution_count": 31,
      "outputs": []
    },
    {
      "cell_type": "code",
      "metadata": {
        "id": "VFDNNrm5xe8f",
        "colab": {
          "base_uri": "https://localhost:8080/"
        },
        "outputId": "ad07f165-a7f3-446f-d6c6-3f78af2db4da"
      },
      "source": [
        "!zip -r saved_model.zip saved_model/"
      ],
      "execution_count": 32,
      "outputs": [
        {
          "output_type": "stream",
          "text": [
            "  adding: saved_model/ (stored 0%)\n",
            "  adding: saved_model/group1-shard11of11.bin (deflated 7%)\n",
            "  adding: saved_model/group1-shard9of11.bin (deflated 7%)\n",
            "  adding: saved_model/group1-shard6of11.bin (deflated 7%)\n",
            "  adding: saved_model/group1-shard2of11.bin (deflated 7%)\n",
            "  adding: saved_model/group1-shard4of11.bin (deflated 7%)\n",
            "  adding: saved_model/group1-shard3of11.bin (deflated 7%)\n",
            "  adding: saved_model/group1-shard8of11.bin (deflated 7%)\n",
            "  adding: saved_model/group1-shard10of11.bin (deflated 7%)\n",
            "  adding: saved_model/group1-shard1of11.bin (deflated 7%)\n",
            "  adding: saved_model/group1-shard7of11.bin (deflated 7%)\n",
            "  adding: saved_model/model.json (deflated 82%)\n",
            "  adding: saved_model/group1-shard5of11.bin (deflated 7%)\n"
          ],
          "name": "stdout"
        }
      ]
    },
    {
      "cell_type": "code",
      "metadata": {
        "id": "YHR_nFHkkahj"
      },
      "source": [
        "# !mkdir -p saved_model\n",
        "# model.save('saved_model/model')"
      ],
      "execution_count": 33,
      "outputs": []
    },
    {
      "cell_type": "code",
      "metadata": {
        "id": "D_MJk_Tyk4oF"
      },
      "source": [
        "# # Convert the model\n",
        "# converter = tf.lite.TFLiteConverter.from_saved_model('/saved_model/model.pb') \n",
        "# # path to the SavedModel directory\n",
        "# tflite_model = converter.convert()\n",
        "\n",
        "# # Save the model.\n",
        "# with open('model.tflite', 'wb') as f:\n",
        "#   f.write(tflite_model)\n"
      ],
      "execution_count": 34,
      "outputs": []
    },
    {
      "cell_type": "code",
      "metadata": {
        "id": "qnXaGf4anVL2"
      },
      "source": [
        "# # Convert the model.\n",
        "# converter = tf.lite.TFLiteConverter.from_keras_model(model)\n",
        "# tflite_model = converter.convert()\n",
        "\n",
        "# # Save the model.\n",
        "# with open('model.tflite', 'wb') as f:\n",
        "#   f.write(tflite_model)\n"
      ],
      "execution_count": 35,
      "outputs": []
    }
  ]
}